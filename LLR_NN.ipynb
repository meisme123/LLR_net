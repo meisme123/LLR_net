{
  "nbformat": 4,
  "nbformat_minor": 0,
  "metadata": {
    "colab": {
      "name": "LLR_NN.ipynb",
      "provenance": [],
      "collapsed_sections": []
    },
    "kernelspec": {
      "name": "python3",
      "display_name": "Python 3"
    },
    "accelerator": "GPU"
  },
  "cells": [
    {
      "cell_type": "markdown",
      "metadata": {
        "id": "1p0Di5v0Dt8g",
        "colab_type": "text"
      },
      "source": [
        "# Link Google Drive data and load required libraries"
      ]
    },
    {
      "cell_type": "markdown",
      "metadata": {
        "id": "GCC8LUEjEAQe",
        "colab_type": "text"
      },
      "source": [
        "Mount Google Drive to access files\n"
      ]
    },
    {
      "cell_type": "code",
      "metadata": {
        "id": "ct22UcTpDwzy",
        "colab_type": "code",
        "colab": {
          "base_uri": "https://localhost:8080/",
          "height": 1000
        },
        "outputId": "62f86d9d-ef0a-4272-a0f5-b759d6ab2382"
      },
      "source": [
        "from google.colab import drive\n",
        "import os\n",
        "drive.mount('/content/gdrive/')\n",
        "os.chdir('/content/gdrive/My Drive/LLR_NN')\n",
        "!ls\n",
        "!pip install tensorflow-gpu==2.1.0"
      ],
      "execution_count": 1,
      "outputs": [
        {
          "output_type": "stream",
          "text": [
            "Go to this URL in a browser: https://accounts.google.com/o/oauth2/auth?client_id=947318989803-6bn6qk8qdgf4n4g3pfee6491hc0brc4i.apps.googleusercontent.com&redirect_uri=urn%3aietf%3awg%3aoauth%3a2.0%3aoob&response_type=code&scope=email%20https%3a%2f%2fwww.googleapis.com%2fauth%2fdocs.test%20https%3a%2f%2fwww.googleapis.com%2fauth%2fdrive%20https%3a%2f%2fwww.googleapis.com%2fauth%2fdrive.photos.readonly%20https%3a%2f%2fwww.googleapis.com%2fauth%2fpeopleapi.readonly\n",
            "\n",
            "Enter your authorization code:\n",
            "··········\n",
            "Mounted at /content/gdrive/\n",
            "BPSK_X_test_var_0.1.csv   BPSK_y_train_var_0.1.csv  QPSK_X_valid_var_0.1.csv\n",
            "BPSK_X_train_var_0.1.csv  BPSK_y_valid_var_0.1.csv  QPSK_y_test_var_0.1.csv\n",
            "BPSK_X_valid_var_0.1.csv  QPSK_X_test_var_0.1.csv   QPSK_y_train_var_0.1.csv\n",
            "BPSK_y_test_var_0.1.csv   QPSK_X_train_var_0.1.csv  QPSK_y_valid_var_0.1.csv\n",
            "Collecting tensorflow-gpu==2.1.0\n",
            "\u001b[?25l  Downloading https://files.pythonhosted.org/packages/0a/93/c7bca39b23aae45cd2e85ad3871c81eccc63b9c5276e926511e2e5b0879d/tensorflow_gpu-2.1.0-cp36-cp36m-manylinux2010_x86_64.whl (421.8MB)\n",
            "\u001b[K     |████████████████████████████████| 421.8MB 38kB/s \n",
            "\u001b[?25hRequirement already satisfied: termcolor>=1.1.0 in /usr/local/lib/python3.6/dist-packages (from tensorflow-gpu==2.1.0) (1.1.0)\n",
            "Requirement already satisfied: gast==0.2.2 in /usr/local/lib/python3.6/dist-packages (from tensorflow-gpu==2.1.0) (0.2.2)\n",
            "Requirement already satisfied: keras-applications>=1.0.8 in /usr/local/lib/python3.6/dist-packages (from tensorflow-gpu==2.1.0) (1.0.8)\n",
            "Requirement already satisfied: protobuf>=3.8.0 in /usr/local/lib/python3.6/dist-packages (from tensorflow-gpu==2.1.0) (3.10.0)\n",
            "Requirement already satisfied: grpcio>=1.8.6 in /usr/local/lib/python3.6/dist-packages (from tensorflow-gpu==2.1.0) (1.27.1)\n",
            "Requirement already satisfied: wrapt>=1.11.1 in /usr/local/lib/python3.6/dist-packages (from tensorflow-gpu==2.1.0) (1.11.2)\n",
            "Requirement already satisfied: keras-preprocessing>=1.1.0 in /usr/local/lib/python3.6/dist-packages (from tensorflow-gpu==2.1.0) (1.1.0)\n",
            "Requirement already satisfied: scipy==1.4.1; python_version >= \"3\" in /usr/local/lib/python3.6/dist-packages (from tensorflow-gpu==2.1.0) (1.4.1)\n",
            "Requirement already satisfied: opt-einsum>=2.3.2 in /usr/local/lib/python3.6/dist-packages (from tensorflow-gpu==2.1.0) (3.1.0)\n",
            "Requirement already satisfied: six>=1.12.0 in /usr/local/lib/python3.6/dist-packages (from tensorflow-gpu==2.1.0) (1.12.0)\n",
            "Collecting tensorflow-estimator<2.2.0,>=2.1.0rc0\n",
            "\u001b[?25l  Downloading https://files.pythonhosted.org/packages/18/90/b77c328a1304437ab1310b463e533fa7689f4bfc41549593056d812fab8e/tensorflow_estimator-2.1.0-py2.py3-none-any.whl (448kB)\n",
            "\u001b[K     |████████████████████████████████| 450kB 51.6MB/s \n",
            "\u001b[?25hRequirement already satisfied: wheel>=0.26; python_version >= \"3\" in /usr/local/lib/python3.6/dist-packages (from tensorflow-gpu==2.1.0) (0.34.2)\n",
            "Requirement already satisfied: astor>=0.6.0 in /usr/local/lib/python3.6/dist-packages (from tensorflow-gpu==2.1.0) (0.8.1)\n",
            "Requirement already satisfied: google-pasta>=0.1.6 in /usr/local/lib/python3.6/dist-packages (from tensorflow-gpu==2.1.0) (0.1.8)\n",
            "Collecting tensorboard<2.2.0,>=2.1.0\n",
            "\u001b[?25l  Downloading https://files.pythonhosted.org/packages/d9/41/bbf49b61370e4f4d245d4c6051dfb6db80cec672605c91b1652ac8cc3d38/tensorboard-2.1.1-py3-none-any.whl (3.8MB)\n",
            "\u001b[K     |████████████████████████████████| 3.9MB 34.5MB/s \n",
            "\u001b[?25hRequirement already satisfied: numpy<2.0,>=1.16.0 in /usr/local/lib/python3.6/dist-packages (from tensorflow-gpu==2.1.0) (1.17.5)\n",
            "Requirement already satisfied: absl-py>=0.7.0 in /usr/local/lib/python3.6/dist-packages (from tensorflow-gpu==2.1.0) (0.9.0)\n",
            "Requirement already satisfied: h5py in /usr/local/lib/python3.6/dist-packages (from keras-applications>=1.0.8->tensorflow-gpu==2.1.0) (2.8.0)\n",
            "Requirement already satisfied: setuptools in /usr/local/lib/python3.6/dist-packages (from protobuf>=3.8.0->tensorflow-gpu==2.1.0) (45.2.0)\n",
            "Requirement already satisfied: werkzeug>=0.11.15 in /usr/local/lib/python3.6/dist-packages (from tensorboard<2.2.0,>=2.1.0->tensorflow-gpu==2.1.0) (1.0.0)\n",
            "Requirement already satisfied: requests<3,>=2.21.0 in /usr/local/lib/python3.6/dist-packages (from tensorboard<2.2.0,>=2.1.0->tensorflow-gpu==2.1.0) (2.21.0)\n",
            "Requirement already satisfied: markdown>=2.6.8 in /usr/local/lib/python3.6/dist-packages (from tensorboard<2.2.0,>=2.1.0->tensorflow-gpu==2.1.0) (3.2.1)\n",
            "Requirement already satisfied: google-auth-oauthlib<0.5,>=0.4.1 in /usr/local/lib/python3.6/dist-packages (from tensorboard<2.2.0,>=2.1.0->tensorflow-gpu==2.1.0) (0.4.1)\n",
            "Requirement already satisfied: google-auth<2,>=1.6.3 in /usr/local/lib/python3.6/dist-packages (from tensorboard<2.2.0,>=2.1.0->tensorflow-gpu==2.1.0) (1.7.2)\n",
            "Requirement already satisfied: chardet<3.1.0,>=3.0.2 in /usr/local/lib/python3.6/dist-packages (from requests<3,>=2.21.0->tensorboard<2.2.0,>=2.1.0->tensorflow-gpu==2.1.0) (3.0.4)\n",
            "Requirement already satisfied: certifi>=2017.4.17 in /usr/local/lib/python3.6/dist-packages (from requests<3,>=2.21.0->tensorboard<2.2.0,>=2.1.0->tensorflow-gpu==2.1.0) (2019.11.28)\n",
            "Requirement already satisfied: idna<2.9,>=2.5 in /usr/local/lib/python3.6/dist-packages (from requests<3,>=2.21.0->tensorboard<2.2.0,>=2.1.0->tensorflow-gpu==2.1.0) (2.8)\n",
            "Requirement already satisfied: urllib3<1.25,>=1.21.1 in /usr/local/lib/python3.6/dist-packages (from requests<3,>=2.21.0->tensorboard<2.2.0,>=2.1.0->tensorflow-gpu==2.1.0) (1.24.3)\n",
            "Requirement already satisfied: requests-oauthlib>=0.7.0 in /usr/local/lib/python3.6/dist-packages (from google-auth-oauthlib<0.5,>=0.4.1->tensorboard<2.2.0,>=2.1.0->tensorflow-gpu==2.1.0) (1.3.0)\n",
            "Requirement already satisfied: cachetools<3.2,>=2.0.0 in /usr/local/lib/python3.6/dist-packages (from google-auth<2,>=1.6.3->tensorboard<2.2.0,>=2.1.0->tensorflow-gpu==2.1.0) (3.1.1)\n",
            "Requirement already satisfied: pyasn1-modules>=0.2.1 in /usr/local/lib/python3.6/dist-packages (from google-auth<2,>=1.6.3->tensorboard<2.2.0,>=2.1.0->tensorflow-gpu==2.1.0) (0.2.8)\n",
            "Requirement already satisfied: rsa<4.1,>=3.1.4 in /usr/local/lib/python3.6/dist-packages (from google-auth<2,>=1.6.3->tensorboard<2.2.0,>=2.1.0->tensorflow-gpu==2.1.0) (4.0)\n",
            "Requirement already satisfied: oauthlib>=3.0.0 in /usr/local/lib/python3.6/dist-packages (from requests-oauthlib>=0.7.0->google-auth-oauthlib<0.5,>=0.4.1->tensorboard<2.2.0,>=2.1.0->tensorflow-gpu==2.1.0) (3.1.0)\n",
            "Requirement already satisfied: pyasn1<0.5.0,>=0.4.6 in /usr/local/lib/python3.6/dist-packages (from pyasn1-modules>=0.2.1->google-auth<2,>=1.6.3->tensorboard<2.2.0,>=2.1.0->tensorflow-gpu==2.1.0) (0.4.8)\n",
            "\u001b[31mERROR: tensorflow 1.15.0 has requirement tensorboard<1.16.0,>=1.15.0, but you'll have tensorboard 2.1.1 which is incompatible.\u001b[0m\n",
            "\u001b[31mERROR: tensorflow 1.15.0 has requirement tensorflow-estimator==1.15.1, but you'll have tensorflow-estimator 2.1.0 which is incompatible.\u001b[0m\n",
            "Installing collected packages: tensorflow-estimator, tensorboard, tensorflow-gpu\n",
            "  Found existing installation: tensorflow-estimator 1.15.1\n",
            "    Uninstalling tensorflow-estimator-1.15.1:\n",
            "      Successfully uninstalled tensorflow-estimator-1.15.1\n",
            "  Found existing installation: tensorboard 1.15.0\n",
            "    Uninstalling tensorboard-1.15.0:\n",
            "      Successfully uninstalled tensorboard-1.15.0\n",
            "Successfully installed tensorboard-2.1.1 tensorflow-estimator-2.1.0 tensorflow-gpu-2.1.0\n"
          ],
          "name": "stdout"
        }
      ]
    },
    {
      "cell_type": "markdown",
      "metadata": {
        "id": "7LEMKNwNEu6-",
        "colab_type": "text"
      },
      "source": [
        "Import Required Libaries"
      ]
    },
    {
      "cell_type": "code",
      "metadata": {
        "id": "Ouqr1PXfEpGs",
        "colab_type": "code",
        "colab": {}
      },
      "source": [
        "import numpy as np\n",
        "import scipy.io as sio\n",
        "import sklearn\n",
        "import tensorflow as tf\n",
        "from sklearn.model_selection import train_test_split\n",
        "from tensorflow.keras.models import Sequential, Model\n",
        "from tensorflow.keras.layers import Input, Dense, Dropout, Embedding, LSTM, MaxPooling1D\n",
        "from tensorflow.keras.layers import Activation,Conv2D, Flatten, Permute, Cropping2D\n",
        "from tensorflow.keras.layers import ZeroPadding2D, MaxPooling2D, AveragePooling2D\n",
        "from tensorflow.keras.layers import BatchNormalization, Reshape\n",
        "from tensorflow.keras.layers import Conv1D\n",
        "from tensorflow.keras.layers import ConvLSTM2D\n",
        "from tensorflow.keras import regularizers\n",
        "from tensorflow.keras import optimizers\n",
        "from tensorflow.keras import initializers\n",
        "import matplotlib.pyplot as plt"
      ],
      "execution_count": 0,
      "outputs": []
    },
    {
      "cell_type": "markdown",
      "metadata": {
        "id": "diIyfMq9FQat",
        "colab_type": "text"
      },
      "source": [
        "Load Data"
      ]
    },
    {
      "cell_type": "code",
      "metadata": {
        "id": "KHi8b7r3FTM2",
        "colab_type": "code",
        "outputId": "680c6255-11ba-40a1-c1bb-21768c8fc9a7",
        "colab": {
          "base_uri": "https://localhost:8080/",
          "height": 118
        }
      },
      "source": [
        "MODULATION = \"QPSK\"\n",
        "NOISE_VAR = \"0.1\"\n",
        "\n",
        "# Load the training data\n",
        "X_train = np.genfromtxt(MODULATION + \"_X_train_var_\" + NOISE_VAR + \".csv\", delimiter=',')\n",
        "y_train= np.genfromtxt(MODULATION + \"_y_train_var_\" + NOISE_VAR + \".csv\", delimiter=',')\n",
        "\n",
        "# Load validation error\n",
        "X_valid = np.genfromtxt(MODULATION + \"_X_valid_var_\" + NOISE_VAR + \".csv\", delimiter=',')\n",
        "y_valid= np.genfromtxt(MODULATION + \"_y_valid_var_\" + NOISE_VAR + \".csv\", delimiter=',')\n",
        "\n",
        "# Load the test data\n",
        "X_test = np.genfromtxt(MODULATION + \"_X_test_var_\" + NOISE_VAR + \".csv\", delimiter=',')\n",
        "y_test = np.genfromtxt(MODULATION + \"_y_test_var_\" + NOISE_VAR + \".csv\", delimiter=',')\n",
        "\n",
        "X_train = X_train.T\n",
        "X_valid = X_valid.T\n",
        "X_test = X_test.T\n",
        "\n",
        "y_train = y_train.T\n",
        "y_valid = y_valid.T\n",
        "y_test = y_test.T\n",
        "\n",
        "if(len(y_train.shape) == 1):\n",
        "  y_train = y_train.reshape([-1,1])\n",
        "  y_valid = y_valid.reshape([-1,1])\n",
        "  y_test = y_test.reshape([-1,1])\n",
        "\n",
        "print(\"Training data shape: \\t\\t\", X_train.shape)\n",
        "print(\"Validation data shape: \\t\\t\",X_valid.shape)\n",
        "print(\"Test data shape: \\t\\t\" ,X_test.shape)\n",
        "\n",
        "print(\"Training label shape: \\t\\t\", y_train.shape)\n",
        "print(\"Training label shape: \\t\\t\", y_valid.shape)\n",
        "print(\"Training label shape: \\t\\t\", y_test.shape)"
      ],
      "execution_count": 3,
      "outputs": [
        {
          "output_type": "stream",
          "text": [
            "Training data shape: \t\t (10000, 2)\n",
            "Validation data shape: \t\t (1500, 2)\n",
            "Test data shape: \t\t (500, 2)\n",
            "Training label shape: \t\t (10000, 2)\n",
            "Training label shape: \t\t (1500, 2)\n",
            "Training label shape: \t\t (500, 2)\n"
          ],
          "name": "stdout"
        }
      ]
    },
    {
      "cell_type": "markdown",
      "metadata": {
        "id": "v-WAWm7SnsA2",
        "colab_type": "text"
      },
      "source": [
        "# Construct Fully Connected Neural Net\n"
      ]
    },
    {
      "cell_type": "markdown",
      "metadata": {
        "id": "6zkFEwQ2BCcY",
        "colab_type": "text"
      },
      "source": [
        "Define the model. Note that we have multiple outputs corresponding to each bit LLR."
      ]
    },
    {
      "cell_type": "code",
      "metadata": {
        "id": "-xcVaRlk15Oe",
        "colab_type": "code",
        "colab": {
          "base_uri": "https://localhost:8080/",
          "height": 487
        },
        "outputId": "61423fb6-1d69-40df-c910-09f50ae8c004"
      },
      "source": [
        "model_input = Input(shape=(X_train.shape[1]), name='model_input')\n",
        "num_outputs = y_train.shape[1]\n",
        "num_layers = 7\n",
        "\n",
        "x = Dense(512, activation='relu')(model_input)\n",
        "for i in range(num_layers, 1, -1):\n",
        "  x = Dense(max(num_outputs, 2**i), activation=\"relu\")(x)\n",
        "\n",
        "output_vec = [None]*num_outputs\n",
        "for i in range(num_outputs):\n",
        "  out_layer_name = \"LLR_bit_\" + str(i+1)\n",
        "  output_vec[i] = Dense(1, activation = \"linear\", name = out_layer_name)(x)\n",
        "\n",
        "model = Model(inputs = model_input, outputs = output_vec)\n",
        "model.summary()"
      ],
      "execution_count": 73,
      "outputs": [
        {
          "output_type": "stream",
          "text": [
            "Model: \"model_7\"\n",
            "__________________________________________________________________________________________________\n",
            "Layer (type)                    Output Shape         Param #     Connected to                     \n",
            "==================================================================================================\n",
            "model_input (InputLayer)        [(None, 2)]          0                                            \n",
            "__________________________________________________________________________________________________\n",
            "dense_54 (Dense)                (None, 512)          1536        model_input[0][0]                \n",
            "__________________________________________________________________________________________________\n",
            "dense_55 (Dense)                (None, 128)          65664       dense_54[0][0]                   \n",
            "__________________________________________________________________________________________________\n",
            "dense_56 (Dense)                (None, 64)           8256        dense_55[0][0]                   \n",
            "__________________________________________________________________________________________________\n",
            "dense_57 (Dense)                (None, 32)           2080        dense_56[0][0]                   \n",
            "__________________________________________________________________________________________________\n",
            "dense_58 (Dense)                (None, 16)           528         dense_57[0][0]                   \n",
            "__________________________________________________________________________________________________\n",
            "dense_59 (Dense)                (None, 8)            136         dense_58[0][0]                   \n",
            "__________________________________________________________________________________________________\n",
            "dense_60 (Dense)                (None, 4)            36          dense_59[0][0]                   \n",
            "__________________________________________________________________________________________________\n",
            "LLR_bit_1 (Dense)               (None, 1)            5           dense_60[0][0]                   \n",
            "__________________________________________________________________________________________________\n",
            "LLR_bit_2 (Dense)               (None, 1)            5           dense_60[0][0]                   \n",
            "==================================================================================================\n",
            "Total params: 78,246\n",
            "Trainable params: 78,246\n",
            "Non-trainable params: 0\n",
            "__________________________________________________________________________________________________\n"
          ],
          "name": "stdout"
        }
      ]
    },
    {
      "cell_type": "markdown",
      "metadata": {
        "id": "OACao-k4BNnN",
        "colab_type": "text"
      },
      "source": [
        "Train the model"
      ]
    },
    {
      "cell_type": "code",
      "metadata": {
        "id": "lTfp_fG7FMrv",
        "colab_type": "code",
        "colab": {}
      },
      "source": [
        "model.compile(loss='logcosh',\n",
        "              optimizer = optimizers.Nadam(),\n",
        "              metrics = ['mean_squared_error'])\n",
        "\n",
        "y_train_flattened = [None] * num_outputs\n",
        "y_valid_flattened = [None] * num_outputs\n",
        "y_test_flattened = [None] * num_outputs\n",
        "\n",
        "for i in range(num_outputs):\n",
        "  y_train_flattened[i] = y_train[:,i]\n",
        "  y_valid_flattened[i] = y_valid[:,i]\n",
        "  y_test_flattened[i] = y_test[:,i]\n",
        "\n",
        "history = model.fit(X_train, y_train_flattened, validation_data=(X_valid, y_valid_flattened), batch_size=100, epochs=50, verbose = 0)"
      ],
      "execution_count": 0,
      "outputs": []
    },
    {
      "cell_type": "markdown",
      "metadata": {
        "id": "RPbbX8COBQMT",
        "colab_type": "text"
      },
      "source": [
        "Evaluate the Model"
      ]
    },
    {
      "cell_type": "code",
      "metadata": {
        "id": "5LqbmULwsdMT",
        "colab_type": "code",
        "colab": {
          "base_uri": "https://localhost:8080/",
          "height": 272
        },
        "outputId": "e21ce207-d772-41f1-b596-6b54523df019"
      },
      "source": [
        "score_val = model.evaluate(X_valid, y_valid_flattened, batch_size = 100, verbose=1)\n",
        "score_test = model.evaluate(X_test, y_test_flattened, batch_size = 100, verbose=1)\n",
        "\n",
        "print(\"Evaluate model on the validation set:\")\n",
        "print(\"---------------------------------------------------\")\n",
        "print(\"Total Loss: \\t\\t\\t\", score_val[0])\n",
        "for i in range(num_outputs):\n",
        "  print(\"Bit \" + str(i) + \" [Loss, MSE] is: \\t\\t\", score_val[i+1], \"\\t, \", score_val[i+3])\n",
        "\n",
        "print(\"\\n\\nEvaluate model on the test set:\")\n",
        "print(\"---------------------------------------------------\")\n",
        "print(\"Total Loss: \\t\\t\\t\", score_test[0])\n",
        "for i in range(num_outputs):\n",
        "  print(\"Bit \" + str(i) + \" [Loss, MSE] is: \\t\\t\", score_test[i+1], \"\\t, \", score_test[i+3])"
      ],
      "execution_count": 59,
      "outputs": [
        {
          "output_type": "stream",
          "text": [
            "1500/1500 [==============================] - 0s 32us/sample - loss: 0.1076 - LLR_bit_1_loss: 0.0584 - LLR_bit_2_loss: 0.0493 - LLR_bit_1_mean_squared_error: 0.1206 - LLR_bit_2_mean_squared_error: 0.1019\n",
            "500/500 [==============================] - 0s 48us/sample - loss: 0.1017 - LLR_bit_1_loss: 0.0548 - LLR_bit_2_loss: 0.0469 - LLR_bit_1_mean_squared_error: 0.1130 - LLR_bit_2_mean_squared_error: 0.0967\n",
            "Evaluate model on the validation set:\n",
            "---------------------------------------------------\n",
            "Total Loss: \t\t\t 0.107615893582503\n",
            "Bit 0 [Loss, MSE] is: \t\t 0.058358464 \t,  0.12061621\n",
            "Bit 1 [Loss, MSE] is: \t\t 0.04925743 \t,  0.10186622\n",
            "\n",
            "\n",
            "Evaluate model on the test set:\n",
            "---------------------------------------------------\n",
            "Total Loss: \t\t\t 0.10172119438648224\n",
            "Bit 0 [Loss, MSE] is: \t\t 0.0548257 \t,  0.11298149\n",
            "Bit 1 [Loss, MSE] is: \t\t 0.046895497 \t,  0.09672506\n"
          ],
          "name": "stdout"
        }
      ]
    },
    {
      "cell_type": "markdown",
      "metadata": {
        "id": "je6LYZDlBczS",
        "colab_type": "text"
      },
      "source": [
        "Plot the LLRs acquired from the neural net vs actual LLRs"
      ]
    },
    {
      "cell_type": "code",
      "metadata": {
        "id": "aTyAbuVtBwsy",
        "colab_type": "code",
        "colab": {
          "base_uri": "https://localhost:8080/",
          "height": 269
        },
        "outputId": "c2e480ab-c06d-4d9f-a9f0-1aeefbb82ca7"
      },
      "source": [
        "y_pred = [None]*num_outputs\n",
        "y_pred = model.predict(X_test)\n",
        "\n",
        "plt.plot(np.asarray(y_pred[0][:]) - y_test[:,0].reshape([-1,1]), 'k')\n",
        "plt.grid()\n",
        "plt.show()"
      ],
      "execution_count": 47,
      "outputs": [
        {
          "output_type": "display_data",
          "data": {
            "image/png": "[encoded data removed]",
            "text/plain": [
              "<Figure size 432x288 with 1 Axes>"
            ]
          },
          "metadata": {
            "tags": []
          }
        }
      ]
    }
  ]
}