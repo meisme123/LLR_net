{
  "nbformat": 4,
  "nbformat_minor": 0,
  "metadata": {
    "colab": {
      "name": "LLR_NN.ipynb",
      "provenance": [],
      "collapsed_sections": [],
      "toc_visible": true
    },
    "kernelspec": {
      "name": "python3",
      "display_name": "Python 3"
    },
    "accelerator": "GPU"
  },
  "cells": [
    {
      "cell_type": "markdown",
      "metadata": {
        "id": "Gl_79TTWJ6X7",
        "colab_type": "text"
      },
      "source": [
        "# Background Information and Write-up"
      ]
    },
    {
      "cell_type": "markdown",
      "metadata": {
        "id": "5ufrE2CHLU0c",
        "colab_type": "text"
      },
      "source": [
        "## High Level Overview"
      ]
    },
    {
      "cell_type": "markdown",
      "metadata": {
        "id": "o2n2leOcKFaj",
        "colab_type": "text"
      },
      "source": [
        "This project can be split up into two main components: the digitial communications portion and the deep learning portion. On one hand, the digital communications side of the project involves generating symbols based off a given modulation scheme, adding noise to that symbol, and calculating the Log-Likelihood Ratio (LLR) of ecah bit. On the other hand, a neural network is created in order to attempt to predict these LLRs only given the noisy constellation. Note that all the digital communications functions are implemented using MATLAB and fed into Python using .csv files.\n"
      ]
    },
    {
      "cell_type": "markdown",
      "metadata": {
        "id": "BuoiuzlLLaqy",
        "colab_type": "text"
      },
      "source": [
        "## Generating the Data and Digital Communications Background"
      ]
    },
    {
      "cell_type": "markdown",
      "metadata": {
        "id": "1iLAtJ5kaO8v",
        "colab_type": "text"
      },
      "source": [
        "### Calculating LLRs"
      ]
    },
    {
      "cell_type": "markdown",
      "metadata": {
        "id": "QyCueJpiLjLT",
        "colab_type": "text"
      },
      "source": [
        "The Log-Likelihood Ratio of a bit $i$ is defined by the equation below where $b_i$ is the original bit sent and $r$ is the input to the reciever:\n",
        "\n",
        "$$ LLR_{b_i} = \\log{\\left( \\frac{p(b_i = 0 | r)}{p(b_i = 1 | r)} \\right)}$$\n",
        "\n",
        "Applying Baye's Rule to this expression, we arrive at:\n",
        "\n",
        "$$\n",
        "\\begin{align} LLR_{b_i} &= \\log{\\left( \\frac{\\frac{p(r | b_i = 0)p(b_i = 0)}{p(r)}}{\\frac{p(r | b_i = 1)p(b_i = 1)}{p(r)}} \\right)} \\\\\n",
        "&= \\log{\\left( \\frac{p(r | b_i = 0)p(b_i = 0)}{p(r |b_i = 1)p(b_i=1)} \\right)} \\\\\n",
        "&= \\log{\\left( \\frac{p(r | b_i = 0)}{p(r | x = 1)}\\right)} + \\log{\\left(\\frac{p(b_i=0)}{p(b_i=1)} \\right)} \\end{align}\n",
        "$$\n",
        "\n",
        "<br> <br>\n",
        "If we assume our input bits are equally distributed (ie: $p(b_i=0) = p(b_i=1) = 0.5$), the second term vanishes. \n",
        "\n",
        "$$LLR_{b_i} = \\log{\\left( \\frac{p(r | b_i = 0)}{p(r | x = 1)}\\right)}$$\n",
        "\n",
        "<br> <br>\n",
        "Additionally, we assume our noise to be iid multi-dimensional Gaussian random variables with parameters $\\mu = \\textbf{0}$ and $\\Sigma = (N_0/2) I_k$. Lastly, note that there may be several constellations that correspond to $b_i = 0$. Therefore, in order to obtain $p(r | b_i = 0)$, we apply the law of total prbability and sum over the subset of constellations which satisfy $b_i =0$, denoted below as $\\mathcal{X_0}$ \n",
        "\n",
        "\n",
        "$$ p(r | b_i = 0) = \\sum_{x \\in \\mathcal{X_0}}{\\frac{1}{\\sqrt{N_0 \\pi }}\\text{exp} \\left( -\\frac{1}{N_0} \\left\\| r - x \\right\\|^2 \\right)}$$\n",
        "\n",
        "<br><br>\n",
        "Bringing this all together, we obtain the final expression for the LLR of bit $i$:\n",
        "\n",
        "$$ LLR_{b_i} = \\log{\\left( \\frac{\\sum_{x \\in \\mathcal{X_0}}{\\text{exp} \\left( -\\frac{1}{N_0} \\left\\| r - x \\right\\|^2 \\right)}}{\\sum_{x \\in \\mathcal{X_1}}{\\text{exp} \\left( -\\frac{1}{N_0} \\left\\| r - x \\right\\|^2 \\right)}}\\right)}\n",
        "$$\n",
        "\n",
        "<br><br>\n",
        "For BSPK modulation with one dimensional noise, this simplifies to the following:\n",
        "\n",
        "$$\\begin{align} LLR_{b_i} &= \\log{\\left( \\frac{{\\text{exp} \\left( -\\frac{1}{N_0} \\left( r - \\sqrt{E_b} \\right)^2 \\right)}}{\\text{exp} \\left( -\\frac{1}{N_0} \\left( r + \\sqrt{E_b} \\right)^2 \\right)}\\right)} \\\\\n",
        "&= 4 \\left(\\frac{E_b}{N_0} \\right) r\n",
        "\\end{align} $$"
      ]
    },
    {
      "cell_type": "markdown",
      "metadata": {
        "id": "1p0Di5v0Dt8g",
        "colab_type": "text"
      },
      "source": [
        "# Link Google Drive data and load required libraries"
      ]
    },
    {
      "cell_type": "markdown",
      "metadata": {
        "id": "GCC8LUEjEAQe",
        "colab_type": "text"
      },
      "source": [
        "##Mount Google Drive to access files\n"
      ]
    },
    {
      "cell_type": "code",
      "metadata": {
        "id": "ct22UcTpDwzy",
        "colab_type": "code",
        "outputId": "3c1b077b-1b54-436b-d735-e3f2ab75a042",
        "colab": {
          "base_uri": "https://localhost:8080/",
          "height": 1000
        }
      },
      "source": [
        "from google.colab import drive\n",
        "import os\n",
        "drive.mount('/content/gdrive/')\n",
        "os.chdir('/content/gdrive/My Drive/LLR_NN')\n",
        "!ls\n",
        "!pip install tensorflow-gpu==2.1.0"
      ],
      "execution_count": 1,
      "outputs": [
        {
          "output_type": "stream",
          "text": [
            "Go to this URL in a browser: https://accounts.google.com/o/oauth2/auth?client_id=947318989803-6bn6qk8qdgf4n4g3pfee6491hc0brc4i.apps.googleusercontent.com&redirect_uri=urn%3aietf%3awg%3aoauth%3a2.0%3aoob&response_type=code&scope=email%20https%3a%2f%2fwww.googleapis.com%2fauth%2fdocs.test%20https%3a%2f%2fwww.googleapis.com%2fauth%2fdrive%20https%3a%2f%2fwww.googleapis.com%2fauth%2fdrive.photos.readonly%20https%3a%2f%2fwww.googleapis.com%2fauth%2fpeopleapi.readonly\n",
            "\n",
            "Enter your authorization code:\n",
            "··········\n",
            "Mounted at /content/gdrive/\n",
            "16_QAM_X_test_var_0.1.csv   8_PSK_y_train_var_0.1.csv  BPSK_X_valid_var_0.1.csv\n",
            "16_QAM_X_train_var_0.1.csv  8_PSK_y_valid_var_0.1.csv  BPSK_y_test_var_0.1.csv\n",
            "16_QAM_X_valid_var_0.1.csv  8_QAM_X_test_var_0.1.csv   BPSK_y_train_var_0.1.csv\n",
            "16_QAM_y_test_var_0.1.csv   8_QAM_X_train_var_0.1.csv  BPSK_y_valid_var_0.1.csv\n",
            "16_QAM_y_train_var_0.1.csv  8_QAM_X_valid_var_0.1.csv  QPSK_X_test_var_0.1.csv\n",
            "16_QAM_y_valid_var_0.1.csv  8_QAM_y_test_var_0.1.csv   QPSK_X_train_var_0.1.csv\n",
            "8_PSK_X_test_var_0.1.csv    8_QAM_y_train_var_0.1.csv  QPSK_X_valid_var_0.1.csv\n",
            "8_PSK_X_train_var_0.1.csv   8_QAM_y_valid_var_0.1.csv  QPSK_y_test_var_0.1.csv\n",
            "8_PSK_X_valid_var_0.1.csv   BPSK_X_test_var_0.1.csv    QPSK_y_train_var_0.1.csv\n",
            "8_PSK_y_test_var_0.1.csv    BPSK_X_train_var_0.1.csv   QPSK_y_valid_var_0.1.csv\n",
            "Collecting tensorflow-gpu==2.1.0\n",
            "\u001b[?25l  Downloading https://files.pythonhosted.org/packages/0a/93/c7bca39b23aae45cd2e85ad3871c81eccc63b9c5276e926511e2e5b0879d/tensorflow_gpu-2.1.0-cp36-cp36m-manylinux2010_x86_64.whl (421.8MB)\n",
            "\u001b[K     |████████████████████████████████| 421.8MB 41kB/s \n",
            "\u001b[?25hRequirement already satisfied: wrapt>=1.11.1 in /usr/local/lib/python3.6/dist-packages (from tensorflow-gpu==2.1.0) (1.11.2)\n",
            "Requirement already satisfied: astor>=0.6.0 in /usr/local/lib/python3.6/dist-packages (from tensorflow-gpu==2.1.0) (0.8.1)\n",
            "Requirement already satisfied: scipy==1.4.1; python_version >= \"3\" in /usr/local/lib/python3.6/dist-packages (from tensorflow-gpu==2.1.0) (1.4.1)\n",
            "Requirement already satisfied: absl-py>=0.7.0 in /usr/local/lib/python3.6/dist-packages (from tensorflow-gpu==2.1.0) (0.9.0)\n",
            "Requirement already satisfied: numpy<2.0,>=1.16.0 in /usr/local/lib/python3.6/dist-packages (from tensorflow-gpu==2.1.0) (1.17.5)\n",
            "Collecting tensorboard<2.2.0,>=2.1.0\n",
            "\u001b[?25l  Downloading https://files.pythonhosted.org/packages/d9/41/bbf49b61370e4f4d245d4c6051dfb6db80cec672605c91b1652ac8cc3d38/tensorboard-2.1.1-py3-none-any.whl (3.8MB)\n",
            "\u001b[K     |████████████████████████████████| 3.9MB 40.7MB/s \n",
            "\u001b[?25hCollecting tensorflow-estimator<2.2.0,>=2.1.0rc0\n",
            "\u001b[?25l  Downloading https://files.pythonhosted.org/packages/18/90/b77c328a1304437ab1310b463e533fa7689f4bfc41549593056d812fab8e/tensorflow_estimator-2.1.0-py2.py3-none-any.whl (448kB)\n",
            "\u001b[K     |████████████████████████████████| 450kB 54.5MB/s \n",
            "\u001b[?25hRequirement already satisfied: grpcio>=1.8.6 in /usr/local/lib/python3.6/dist-packages (from tensorflow-gpu==2.1.0) (1.27.1)\n",
            "Requirement already satisfied: keras-preprocessing>=1.1.0 in /usr/local/lib/python3.6/dist-packages (from tensorflow-gpu==2.1.0) (1.1.0)\n",
            "Requirement already satisfied: google-pasta>=0.1.6 in /usr/local/lib/python3.6/dist-packages (from tensorflow-gpu==2.1.0) (0.1.8)\n",
            "Requirement already satisfied: wheel>=0.26; python_version >= \"3\" in /usr/local/lib/python3.6/dist-packages (from tensorflow-gpu==2.1.0) (0.34.2)\n",
            "Requirement already satisfied: six>=1.12.0 in /usr/local/lib/python3.6/dist-packages (from tensorflow-gpu==2.1.0) (1.12.0)\n",
            "Requirement already satisfied: gast==0.2.2 in /usr/local/lib/python3.6/dist-packages (from tensorflow-gpu==2.1.0) (0.2.2)\n",
            "Requirement already satisfied: opt-einsum>=2.3.2 in /usr/local/lib/python3.6/dist-packages (from tensorflow-gpu==2.1.0) (3.1.0)\n",
            "Requirement already satisfied: termcolor>=1.1.0 in /usr/local/lib/python3.6/dist-packages (from tensorflow-gpu==2.1.0) (1.1.0)\n",
            "Requirement already satisfied: protobuf>=3.8.0 in /usr/local/lib/python3.6/dist-packages (from tensorflow-gpu==2.1.0) (3.10.0)\n",
            "Requirement already satisfied: keras-applications>=1.0.8 in /usr/local/lib/python3.6/dist-packages (from tensorflow-gpu==2.1.0) (1.0.8)\n",
            "Requirement already satisfied: requests<3,>=2.21.0 in /usr/local/lib/python3.6/dist-packages (from tensorboard<2.2.0,>=2.1.0->tensorflow-gpu==2.1.0) (2.21.0)\n",
            "Requirement already satisfied: google-auth-oauthlib<0.5,>=0.4.1 in /usr/local/lib/python3.6/dist-packages (from tensorboard<2.2.0,>=2.1.0->tensorflow-gpu==2.1.0) (0.4.1)\n",
            "Requirement already satisfied: werkzeug>=0.11.15 in /usr/local/lib/python3.6/dist-packages (from tensorboard<2.2.0,>=2.1.0->tensorflow-gpu==2.1.0) (1.0.0)\n",
            "Requirement already satisfied: setuptools>=41.0.0 in /usr/local/lib/python3.6/dist-packages (from tensorboard<2.2.0,>=2.1.0->tensorflow-gpu==2.1.0) (45.2.0)\n",
            "Requirement already satisfied: google-auth<2,>=1.6.3 in /usr/local/lib/python3.6/dist-packages (from tensorboard<2.2.0,>=2.1.0->tensorflow-gpu==2.1.0) (1.7.2)\n",
            "Requirement already satisfied: markdown>=2.6.8 in /usr/local/lib/python3.6/dist-packages (from tensorboard<2.2.0,>=2.1.0->tensorflow-gpu==2.1.0) (3.2.1)\n",
            "Requirement already satisfied: h5py in /usr/local/lib/python3.6/dist-packages (from keras-applications>=1.0.8->tensorflow-gpu==2.1.0) (2.8.0)\n",
            "Requirement already satisfied: idna<2.9,>=2.5 in /usr/local/lib/python3.6/dist-packages (from requests<3,>=2.21.0->tensorboard<2.2.0,>=2.1.0->tensorflow-gpu==2.1.0) (2.8)\n",
            "Requirement already satisfied: urllib3<1.25,>=1.21.1 in /usr/local/lib/python3.6/dist-packages (from requests<3,>=2.21.0->tensorboard<2.2.0,>=2.1.0->tensorflow-gpu==2.1.0) (1.24.3)\n",
            "Requirement already satisfied: chardet<3.1.0,>=3.0.2 in /usr/local/lib/python3.6/dist-packages (from requests<3,>=2.21.0->tensorboard<2.2.0,>=2.1.0->tensorflow-gpu==2.1.0) (3.0.4)\n",
            "Requirement already satisfied: certifi>=2017.4.17 in /usr/local/lib/python3.6/dist-packages (from requests<3,>=2.21.0->tensorboard<2.2.0,>=2.1.0->tensorflow-gpu==2.1.0) (2019.11.28)\n",
            "Requirement already satisfied: requests-oauthlib>=0.7.0 in /usr/local/lib/python3.6/dist-packages (from google-auth-oauthlib<0.5,>=0.4.1->tensorboard<2.2.0,>=2.1.0->tensorflow-gpu==2.1.0) (1.3.0)\n",
            "Requirement already satisfied: pyasn1-modules>=0.2.1 in /usr/local/lib/python3.6/dist-packages (from google-auth<2,>=1.6.3->tensorboard<2.2.0,>=2.1.0->tensorflow-gpu==2.1.0) (0.2.8)\n",
            "Requirement already satisfied: cachetools<3.2,>=2.0.0 in /usr/local/lib/python3.6/dist-packages (from google-auth<2,>=1.6.3->tensorboard<2.2.0,>=2.1.0->tensorflow-gpu==2.1.0) (3.1.1)\n",
            "Requirement already satisfied: rsa<4.1,>=3.1.4 in /usr/local/lib/python3.6/dist-packages (from google-auth<2,>=1.6.3->tensorboard<2.2.0,>=2.1.0->tensorflow-gpu==2.1.0) (4.0)\n",
            "Requirement already satisfied: oauthlib>=3.0.0 in /usr/local/lib/python3.6/dist-packages (from requests-oauthlib>=0.7.0->google-auth-oauthlib<0.5,>=0.4.1->tensorboard<2.2.0,>=2.1.0->tensorflow-gpu==2.1.0) (3.1.0)\n",
            "Requirement already satisfied: pyasn1<0.5.0,>=0.4.6 in /usr/local/lib/python3.6/dist-packages (from pyasn1-modules>=0.2.1->google-auth<2,>=1.6.3->tensorboard<2.2.0,>=2.1.0->tensorflow-gpu==2.1.0) (0.4.8)\n",
            "\u001b[31mERROR: tensorflow 1.15.0 has requirement tensorboard<1.16.0,>=1.15.0, but you'll have tensorboard 2.1.1 which is incompatible.\u001b[0m\n",
            "\u001b[31mERROR: tensorflow 1.15.0 has requirement tensorflow-estimator==1.15.1, but you'll have tensorflow-estimator 2.1.0 which is incompatible.\u001b[0m\n",
            "Installing collected packages: tensorboard, tensorflow-estimator, tensorflow-gpu\n",
            "  Found existing installation: tensorboard 1.15.0\n",
            "    Uninstalling tensorboard-1.15.0:\n",
            "      Successfully uninstalled tensorboard-1.15.0\n",
            "  Found existing installation: tensorflow-estimator 1.15.1\n",
            "    Uninstalling tensorflow-estimator-1.15.1:\n",
            "      Successfully uninstalled tensorflow-estimator-1.15.1\n",
            "Successfully installed tensorboard-2.1.1 tensorflow-estimator-2.1.0 tensorflow-gpu-2.1.0\n"
          ],
          "name": "stdout"
        }
      ]
    },
    {
      "cell_type": "markdown",
      "metadata": {
        "id": "7LEMKNwNEu6-",
        "colab_type": "text"
      },
      "source": [
        "##Import Required Libaries"
      ]
    },
    {
      "cell_type": "code",
      "metadata": {
        "id": "Ouqr1PXfEpGs",
        "colab_type": "code",
        "colab": {}
      },
      "source": [
        "import numpy as np\n",
        "import scipy.io as sio\n",
        "import sklearn\n",
        "import tensorflow as tf\n",
        "from sklearn.model_selection import train_test_split\n",
        "from tensorflow.keras.models import Sequential, Model\n",
        "from tensorflow.keras.layers import Input, Dense, Dropout, Embedding, LSTM, MaxPooling1D\n",
        "from tensorflow.keras.layers import Activation,Conv2D, Flatten, Permute, Cropping2D\n",
        "from tensorflow.keras.layers import ZeroPadding2D, MaxPooling2D, AveragePooling2D\n",
        "from tensorflow.keras.layers import BatchNormalization, Reshape\n",
        "from tensorflow.keras.layers import Conv1D\n",
        "from tensorflow.keras.layers import ConvLSTM2D\n",
        "from tensorflow.keras import regularizers\n",
        "from tensorflow.keras import optimizers\n",
        "from tensorflow.keras import initializers\n",
        "import matplotlib.pyplot as plt"
      ],
      "execution_count": 0,
      "outputs": []
    },
    {
      "cell_type": "markdown",
      "metadata": {
        "id": "diIyfMq9FQat",
        "colab_type": "text"
      },
      "source": [
        "##Load Data"
      ]
    },
    {
      "cell_type": "code",
      "metadata": {
        "id": "KHi8b7r3FTM2",
        "colab_type": "code",
        "outputId": "70b9dac7-1782-4eae-e6f6-ea7fa9c2e143",
        "colab": {
          "base_uri": "https://localhost:8080/",
          "height": 119
        }
      },
      "source": [
        "MODULATION = \"16_QAM\"\n",
        "NOISE_VAR = \"0.1\"\n",
        "\n",
        "# Load the training data\n",
        "X_train = np.genfromtxt(MODULATION + \"_X_train_var_\" + NOISE_VAR + \".csv\", delimiter=',')\n",
        "y_train= np.genfromtxt(MODULATION + \"_y_train_var_\" + NOISE_VAR + \".csv\", delimiter=',')\n",
        "\n",
        "# Load validation error\n",
        "X_valid = np.genfromtxt(MODULATION + \"_X_valid_var_\" + NOISE_VAR + \".csv\", delimiter=',')\n",
        "y_valid= np.genfromtxt(MODULATION + \"_y_valid_var_\" + NOISE_VAR + \".csv\", delimiter=',')\n",
        "\n",
        "# Load the test data\n",
        "X_test = np.genfromtxt(MODULATION + \"_X_test_var_\" + NOISE_VAR + \".csv\", delimiter=',')\n",
        "y_test = np.genfromtxt(MODULATION + \"_y_test_var_\" + NOISE_VAR + \".csv\", delimiter=',')\n",
        "\n",
        "# Reshape the data\n",
        "X_train = X_train.T\n",
        "X_valid = X_valid.T\n",
        "X_test = X_test.T\n",
        "y_train = y_train.T\n",
        "y_valid = y_valid.T\n",
        "y_test = y_test.T\n",
        "\n",
        "# Special case for M=2 since the data imported was only 1D\n",
        "if(len(y_train.shape) == 1):\n",
        "  y_train = y_train.reshape([-1,1])\n",
        "  y_valid = y_valid.reshape([-1,1])\n",
        "  y_test = y_test.reshape([-1,1])\n",
        "\n",
        "print(\"Training data shape: \\t\\t\", X_train.shape)\n",
        "print(\"Validation data shape: \\t\\t\",X_valid.shape)\n",
        "print(\"Test data shape: \\t\\t\" ,X_test.shape)\n",
        "\n",
        "print(\"Training label shape: \\t\\t\", y_train.shape)\n",
        "print(\"Training label shape: \\t\\t\", y_valid.shape)\n",
        "print(\"Training label shape: \\t\\t\", y_test.shape)"
      ],
      "execution_count": 11,
      "outputs": [
        {
          "output_type": "stream",
          "text": [
            "Training data shape: \t\t (10000, 2)\n",
            "Validation data shape: \t\t (1500, 2)\n",
            "Test data shape: \t\t (3000, 2)\n",
            "Training label shape: \t\t (10000, 4)\n",
            "Training label shape: \t\t (1500, 4)\n",
            "Training label shape: \t\t (3000, 4)\n"
          ],
          "name": "stdout"
        }
      ]
    },
    {
      "cell_type": "markdown",
      "metadata": {
        "id": "v-WAWm7SnsA2",
        "colab_type": "text"
      },
      "source": [
        "# Construct Fully Connected Neural Net\n"
      ]
    },
    {
      "cell_type": "markdown",
      "metadata": {
        "id": "6zkFEwQ2BCcY",
        "colab_type": "text"
      },
      "source": [
        "##Define the model. Note that we have multiple outputs corresponding to each bit LLR."
      ]
    },
    {
      "cell_type": "code",
      "metadata": {
        "id": "-xcVaRlk15Oe",
        "colab_type": "code",
        "outputId": "08b6d3c6-a9f3-494e-bbac-1a8d900ea257",
        "colab": {
          "base_uri": "https://localhost:8080/",
          "height": 697
        }
      },
      "source": [
        "model_input = Input(shape=(X_train.shape[1]), name='model_input')\n",
        "num_outputs = y_train.shape[1]\n",
        "num_layers = 7\n",
        "\n",
        "x = Dense(256, activation='relu')(model_input)\n",
        "for i in range(num_layers, 1, -1):\n",
        "  x = Dense(max(num_outputs*2, 2**i), activation=\"relu\")(x)\n",
        "\n",
        "output_vec = [None]*num_outputs\n",
        "for i in range(num_outputs):\n",
        "  out_layer_name = \"LLR_bit_\" + str(i+1)\n",
        "\n",
        "  bit_layer = Dense(4, activation  = 'relu', name = \"bit_layer_\" + str(i + 1))(x)\n",
        "  output_vec[i] = Dense(1, activation = \"linear\", name = out_layer_name)(bit_layer)\n",
        "\n",
        "model = Model(inputs = model_input, outputs = output_vec)\n",
        "model.summary()"
      ],
      "execution_count": 4,
      "outputs": [
        {
          "output_type": "stream",
          "text": [
            "Model: \"model\"\n",
            "__________________________________________________________________________________________________\n",
            "Layer (type)                    Output Shape         Param #     Connected to                     \n",
            "==================================================================================================\n",
            "model_input (InputLayer)        [(None, 2)]          0                                            \n",
            "__________________________________________________________________________________________________\n",
            "dense (Dense)                   (None, 256)          768         model_input[0][0]                \n",
            "__________________________________________________________________________________________________\n",
            "dense_1 (Dense)                 (None, 128)          32896       dense[0][0]                      \n",
            "__________________________________________________________________________________________________\n",
            "dense_2 (Dense)                 (None, 64)           8256        dense_1[0][0]                    \n",
            "__________________________________________________________________________________________________\n",
            "dense_3 (Dense)                 (None, 32)           2080        dense_2[0][0]                    \n",
            "__________________________________________________________________________________________________\n",
            "dense_4 (Dense)                 (None, 16)           528         dense_3[0][0]                    \n",
            "__________________________________________________________________________________________________\n",
            "dense_5 (Dense)                 (None, 8)            136         dense_4[0][0]                    \n",
            "__________________________________________________________________________________________________\n",
            "dense_6 (Dense)                 (None, 8)            72          dense_5[0][0]                    \n",
            "__________________________________________________________________________________________________\n",
            "bit_layer_1 (Dense)             (None, 4)            36          dense_6[0][0]                    \n",
            "__________________________________________________________________________________________________\n",
            "bit_layer_2 (Dense)             (None, 4)            36          dense_6[0][0]                    \n",
            "__________________________________________________________________________________________________\n",
            "bit_layer_3 (Dense)             (None, 4)            36          dense_6[0][0]                    \n",
            "__________________________________________________________________________________________________\n",
            "bit_layer_4 (Dense)             (None, 4)            36          dense_6[0][0]                    \n",
            "__________________________________________________________________________________________________\n",
            "LLR_bit_1 (Dense)               (None, 1)            5           bit_layer_1[0][0]                \n",
            "__________________________________________________________________________________________________\n",
            "LLR_bit_2 (Dense)               (None, 1)            5           bit_layer_2[0][0]                \n",
            "__________________________________________________________________________________________________\n",
            "LLR_bit_3 (Dense)               (None, 1)            5           bit_layer_3[0][0]                \n",
            "__________________________________________________________________________________________________\n",
            "LLR_bit_4 (Dense)               (None, 1)            5           bit_layer_4[0][0]                \n",
            "==================================================================================================\n",
            "Total params: 44,900\n",
            "Trainable params: 44,900\n",
            "Non-trainable params: 0\n",
            "__________________________________________________________________________________________________\n"
          ],
          "name": "stdout"
        }
      ]
    },
    {
      "cell_type": "markdown",
      "metadata": {
        "id": "OACao-k4BNnN",
        "colab_type": "text"
      },
      "source": [
        "##Train the model"
      ]
    },
    {
      "cell_type": "code",
      "metadata": {
        "id": "lTfp_fG7FMrv",
        "colab_type": "code",
        "colab": {}
      },
      "source": [
        "# Experimented with model parameters:\n",
        "# Can choose loss function, metrics, optimizer parameters\n",
        "model.compile(loss='logcosh',\n",
        "              optimizer = optimizers.Nadam(),\n",
        "              metrics = ['mean_squared_error'])\n",
        "\n",
        "# Since we have one output per bit, store the results of each its own list\n",
        "y_train_flattened = [None] * num_outputs\n",
        "y_valid_flattened = [None] * num_outputs\n",
        "y_test_flattened = [None] * num_outputs\n",
        "\n",
        "for i in range(num_outputs):\n",
        "  y_train_flattened[i] = y_train[:,i]\n",
        "  y_valid_flattened[i] = y_valid[:,i]\n",
        "  y_test_flattened[i] = y_test[:,i]\n",
        "\n",
        "history = model.fit(X_train, y_train_flattened, validation_data=(X_valid, y_valid_flattened), batch_size=50, epochs=100, verbose = 0)"
      ],
      "execution_count": 0,
      "outputs": []
    },
    {
      "cell_type": "markdown",
      "metadata": {
        "id": "RPbbX8COBQMT",
        "colab_type": "text"
      },
      "source": [
        "##Evaluate the Model"
      ]
    },
    {
      "cell_type": "code",
      "metadata": {
        "id": "5LqbmULwsdMT",
        "colab_type": "code",
        "outputId": "bc8b7f39-0128-4c83-bd78-df638281fff0",
        "colab": {
          "base_uri": "https://localhost:8080/",
          "height": 289
        }
      },
      "source": [
        "# Test model on the validation and test set and report results\n",
        "score_val = model.evaluate(X_valid, y_valid_flattened, batch_size = 100, verbose=0)\n",
        "score_test = model.evaluate(X_test, y_test_flattened, batch_size = 100, verbose=0)\n",
        "\n",
        "print(\"Evaluate model on the validation set:\")\n",
        "print(\"---------------------------------------------------\")\n",
        "print(\"Total Loss: \\t\\t\\t\", score_val[0])\n",
        "for i in range(num_outputs):\n",
        "  print(\"Bit \" + str(i) + \" [Loss, MSE] is: \\t\\t\", score_val[i+1], \"\\t, \", score_val[i+3])\n",
        "\n",
        "print(\"\\n\\nEvaluate model on the test set:\")\n",
        "print(\"---------------------------------------------------\")\n",
        "print(\"Total Loss: \\t\\t\\t\", score_test[0])\n",
        "for i in range(num_outputs):\n",
        "  print(\"Bit \" + str(i) + \" [Loss, MSE] is: \\t\\t\", score_test[i+1], \"\\t, \", score_test[i+3])"
      ],
      "execution_count": 23,
      "outputs": [
        {
          "output_type": "stream",
          "text": [
            "Evaluate model on the validation set:\n",
            "---------------------------------------------------\n",
            "Total Loss: \t\t\t 0.36821927229563395\n",
            "Bit 0 [Loss, MSE] is: \t\t 0.109039865 \t,  0.041812085\n",
            "Bit 1 [Loss, MSE] is: \t\t 0.08756699 \t,  0.12980035\n",
            "Bit 2 [Loss, MSE] is: \t\t 0.041812085 \t,  0.2681721\n",
            "Bit 3 [Loss, MSE] is: \t\t 0.12980035 \t,  0.20138556\n",
            "\n",
            "\n",
            "Evaluate model on the test set:\n",
            "---------------------------------------------------\n",
            "Total Loss: \t\t\t 0.34117901722590127\n",
            "Bit 0 [Loss, MSE] is: \t\t 0.10360838 \t,  0.032007392\n",
            "Bit 1 [Loss, MSE] is: \t\t 0.08112338 \t,  0.124439865\n",
            "Bit 2 [Loss, MSE] is: \t\t 0.032007392 \t,  0.2411538\n",
            "Bit 3 [Loss, MSE] is: \t\t 0.124439865 \t,  0.18651947\n"
          ],
          "name": "stdout"
        }
      ]
    },
    {
      "cell_type": "markdown",
      "metadata": {
        "id": "je6LYZDlBczS",
        "colab_type": "text"
      },
      "source": [
        "##Plot the LLRs acquired from the neural net vs actual LLRs"
      ]
    },
    {
      "cell_type": "code",
      "metadata": {
        "id": "aTyAbuVtBwsy",
        "colab_type": "code",
        "outputId": "50dcd39e-0444-418b-e62b-02a8f57fd881",
        "colab": {
          "base_uri": "https://localhost:8080/",
          "height": 621
        }
      },
      "source": [
        "y_pred = [None]*num_outputs\n",
        "y_pred = model.predict(X_test)\n",
        "\n",
        "f = plt.figure()\n",
        "f.set_figheight(10)\n",
        "f.set_figwidth(10)\n",
        "for i in range(num_outputs):\n",
        "  if num_outputs != 1:\n",
        "    predicted = y_pred[i][:]\n",
        "  else:\n",
        "    predicted = y_pred\n",
        "\n",
        "  plt.subplot(2,2,i+1)\n",
        "  plt.scatter(np.asarray(predicted), y_test[:,i].reshape([-1,1]))\n",
        "  plt.plot(y_test[:,i].reshape([-1,1]), y_test[:,i].reshape([-1,1]), 'k')\n",
        "  plt.xlabel(\"Predicted Neural Network LLRs\")\n",
        "  plt.ylabel(\"Actual LLRs\")\n",
        "  plt.title(\"Bit \" + str(i) + \": \" + MODULATION)\n",
        "  plt.grid()\n",
        "\n",
        "plt.subplots_adjust(wspace=0.5, hspace=0.5)\n",
        "plt.show()"
      ],
      "execution_count": 48,
      "outputs": [
        {
          "output_type": "display_data",
          "data": {
            "image/png": "[encoded data removed]",
            "text/plain": [
              "<Figure size 720x720 with 4 Axes>"
            ]
          },
          "metadata": {
            "tags": []
          }
        }
      ]
    },
    {
      "cell_type": "code",
      "metadata": {
        "id": "pFQ4JbXGjGQF",
        "colab_type": "code",
        "colab": {}
      },
      "source": [
        ""
      ],
      "execution_count": 0,
      "outputs": []
    }
  ]
}