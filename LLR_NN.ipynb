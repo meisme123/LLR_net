{
  "nbformat": 4,
  "nbformat_minor": 0,
  "metadata": {
    "accelerator": "TPU",
    "colab": {
      "name": "LLR_NN.ipynb",
      "provenance": [],
      "collapsed_sections": []
    },
    "kernelspec": {
      "name": "python3",
      "display_name": "Python 3"
    },
    "language_info": {
      "codemirror_mode": {
        "name": "ipython",
        "version": 3
      },
      "file_extension": ".py",
      "mimetype": "text/x-python",
      "name": "python",
      "nbconvert_exporter": "python",
      "pygments_lexer": "ipython3",
      "version": "3.6.9"
    }
  },
  "cells": [
    {
      "cell_type": "markdown",
      "metadata": {
        "colab_type": "text",
        "id": "GCC8LUEjEAQe"
      },
      "source": [
        "# Begin the Code and Mount Google Drive to access files"
      ]
    },
    {
      "cell_type": "code",
      "metadata": {
        "colab_type": "code",
        "id": "ct22UcTpDwzy",
        "outputId": "c3dfe4e6-4cb4-4490-f87c-0ee9fe0303ef",
        "colab": {
          "base_uri": "https://localhost:8080/",
          "height": 84
        }
      },
      "source": [
        "import os\n",
        "\n",
        "# Comment these lines out if not using google colab\n",
        "from google.colab import drive\n",
        "drive.mount('/content/gdrive/')\n",
        "os.chdir('/content/gdrive/My Drive/LLR_NN')\n",
        "\n",
        "!ls"
      ],
      "execution_count": 6,
      "outputs": [
        {
          "output_type": "stream",
          "text": [
            "bpsk_model.json\t\t data_files_single_snr_fade  llr_model.h5\n",
            "bpsk_single.json\t keras_export\t\t     result_figures\n",
            "data_files_multiple_snr  llr_bpsk_model.h5\n",
            "data_files_single_snr\t llr_bpsk_model_single.h5\n"
          ],
          "name": "stdout"
        }
      ]
    },
    {
      "cell_type": "code",
      "metadata": {
        "id": "Go5CYpgKofbM",
        "colab_type": "code",
        "colab": {}
      },
      "source": [
        "# Can comment the pip install if not using GPU\n",
        "# Note that commenting this line out if your computer has a GPU will result in slower training times\n",
        "\n",
        "# comment the %%capture line if not on google colab, this is to supress the output\n",
        "%%capture\n",
        "!pip install tensorflow-gpu==2.1.0"
      ],
      "execution_count": 0,
      "outputs": []
    },
    {
      "cell_type": "markdown",
      "metadata": {
        "colab_type": "text",
        "id": "7LEMKNwNEu6-"
      },
      "source": [
        "## Import Required Libraries"
      ]
    },
    {
      "cell_type": "code",
      "metadata": {
        "colab_type": "code",
        "id": "Ouqr1PXfEpGs",
        "colab": {}
      },
      "source": [
        "import numpy as np\n",
        "import scipy.io as sio\n",
        "import sklearn\n",
        "import tensorflow as tf\n",
        "from sklearn.model_selection import train_test_split\n",
        "from tensorflow.keras.models import Sequential, Model\n",
        "from tensorflow.keras.layers import Input, Dense, Dropout, Embedding, LSTM, MaxPooling1D\n",
        "from tensorflow.keras.layers import Activation,Conv2D, Flatten, Permute, Cropping2D\n",
        "from tensorflow.keras.layers import ZeroPadding2D, MaxPooling2D, AveragePooling2D\n",
        "from tensorflow.keras.layers import BatchNormalization, Reshape\n",
        "from tensorflow.keras.layers import Conv1D, GRU\n",
        "from tensorflow.keras.layers import ConvLSTM2D\n",
        "from tensorflow.keras import regularizers\n",
        "from tensorflow.keras import optimizers\n",
        "from tensorflow.keras import initializers\n",
        "import matplotlib.pyplot as plt"
      ],
      "execution_count": 0,
      "outputs": []
    },
    {
      "cell_type": "markdown",
      "metadata": {
        "colab_type": "text",
        "id": "ytCIzXfJBnKk"
      },
      "source": [
        "# Load the Data"
      ]
    },
    {
      "cell_type": "code",
      "metadata": {
        "colab_type": "code",
        "id": "Vd8TfxeeBlP_",
        "outputId": "b22d88ad-9130-4a57-8ab7-ba8acd780aa0",
        "colab": {
          "base_uri": "https://localhost:8080/",
          "height": 437
        }
      },
      "source": [
        "MODULATION = \"BPSK\"\n",
        "SNR = \"1.8\"\n",
        "FADE_VAR = \"0.01\"\n",
        "SNR_RANGE_MIN = \"0\"\n",
        "SNR_RANGE_MAX = \"10\"\n",
        "\n",
        "# Load the training data\n",
        "X_train_single_SNR = np.genfromtxt(\"./data_files_single_snr/\" + MODULATION + \"_X_train_snr_\" + SNR + \".csv\", delimiter=',')\n",
        "y_train_single_SNR = np.genfromtxt(\"./data_files_single_snr/\" + MODULATION + \"_y_train_snr_\" + SNR + \".csv\", delimiter=',')\n",
        "X_train_multiple_SNR = np.genfromtxt(\"./data_files_multiple_snr/\" + MODULATION + \"_X_train_snr_range_\" + SNR_RANGE_MIN + \"_\" + SNR_RANGE_MAX + \".csv\", delimiter=',')\n",
        "y_train_multiple_SNR = np.genfromtxt(\"./data_files_multiple_snr/\" + MODULATION + \"_y_train_snr_range_\" + SNR_RANGE_MIN + \"_\" + SNR_RANGE_MAX + \".csv\", delimiter=',')\n",
        "X_train_single_SNR_fade = np.genfromtxt(\"./data_files_single_snr_fade/\" + MODULATION + \"_X_train_snr_\" + SNR + \"_fade_var_\" + FADE_VAR + \".csv\", delimiter=',')\n",
        "y_train_single_SNR_fade = np.genfromtxt(\"./data_files_single_snr_fade/\" + MODULATION + \"_y_train_snr_\" + SNR + \"_fade_var_\" + FADE_VAR + \".csv\", delimiter=',')\n",
        "\n",
        "# Load validation data\n",
        "X_valid_single_SNR = np.genfromtxt(\"./data_files_single_snr/\" + MODULATION + \"_X_valid_snr_\" + SNR + \".csv\", delimiter=',')\n",
        "y_valid_single_SNR = np.genfromtxt(\"./data_files_single_snr/\" + MODULATION + \"_y_valid_snr_\" + SNR + \".csv\", delimiter=',')\n",
        "X_valid_multiple_SNR = np.genfromtxt(\"./data_files_multiple_snr/\" + MODULATION + \"_X_valid_snr_range_\" + SNR_RANGE_MIN + \"_\" + SNR_RANGE_MAX + \".csv\", delimiter=',')\n",
        "y_valid_multiple_SNR = np.genfromtxt(\"./data_files_multiple_snr/\" + MODULATION + \"_y_valid_snr_range_\" + SNR_RANGE_MIN + \"_\" + SNR_RANGE_MAX + \".csv\", delimiter=',')\n",
        "X_valid_single_SNR_fade = np.genfromtxt(\"./data_files_single_snr_fade/\" + MODULATION + \"_X_valid_snr_\" + SNR + \"_fade_var_\" + FADE_VAR + \".csv\", delimiter=',')\n",
        "y_valid_single_SNR_fade = np.genfromtxt(\"./data_files_single_snr_fade/\" + MODULATION + \"_y_valid_snr_\" + SNR + \"_fade_var_\" + FADE_VAR + \".csv\", delimiter=',')\n",
        "\n",
        "# Load the test data\n",
        "X_test_single_SNR = np.genfromtxt(\"./data_files_single_snr/\" + MODULATION + \"_X_test_snr_\" + SNR + \".csv\", delimiter=',')\n",
        "y_test_single_SNR = np.genfromtxt(\"./data_files_single_snr/\" + MODULATION + \"_y_test_snr_\" + SNR + \".csv\", delimiter=',')\n",
        "X_test_multiple_SNR = np.genfromtxt(\"./data_files_multiple_snr/\" + MODULATION + \"_X_test_snr_range_\" + SNR_RANGE_MIN + \"_\" + SNR_RANGE_MAX + \".csv\", delimiter=',')\n",
        "y_test_multiple_SNR = np.genfromtxt(\"./data_files_multiple_snr/\" + MODULATION + \"_y_test_snr_range_\" + SNR_RANGE_MIN + \"_\" + SNR_RANGE_MAX + \".csv\", delimiter=',')\n",
        "X_test_single_SNR_fade = np.genfromtxt(\"./data_files_single_snr_fade/\" + MODULATION + \"_X_test_snr_\" + SNR + \"_fade_var_\" + FADE_VAR + \".csv\", delimiter=',')\n",
        "y_test_single_SNR_fade = np.genfromtxt(\"./data_files_single_snr_fade/\" + MODULATION + \"_y_test_snr_\" + SNR + \"_fade_var_\" + FADE_VAR + \".csv\", delimiter=',')\n",
        "\n",
        "# Reshape the data\n",
        "X_train_single_SNR = X_train_single_SNR.T\n",
        "X_valid_single_SNR = X_valid_single_SNR.T\n",
        "X_test_single_SNR = X_test_single_SNR.T\n",
        "X_train_multiple_SNR = X_train_multiple_SNR.T\n",
        "X_valid_multiple_SNR = X_valid_multiple_SNR.T\n",
        "X_test_multiple_SNR = X_test_multiple_SNR.T\n",
        "X_train_single_SNR_fade = X_train_single_SNR_fade.T\n",
        "X_valid_single_SNR_fade = X_valid_single_SNR_fade.T\n",
        "X_test_single_SNR_fade = X_test_single_SNR_fade.T\n",
        "\n",
        "y_train_single_SNR = y_train_single_SNR.T\n",
        "y_valid_single_SNR = y_valid_single_SNR.T\n",
        "y_test_single_SNR = y_test_single_SNR.T\n",
        "y_train_multiple_SNR = y_train_multiple_SNR.T\n",
        "y_valid_multiple_SNR = y_valid_multiple_SNR.T\n",
        "y_test_multiple_SNR = y_test_multiple_SNR.T\n",
        "y_train_single_SNR_fade = y_train_single_SNR_fade.T\n",
        "y_valid_single_SNR_fade = y_valid_single_SNR_fade.T\n",
        "y_test_single_SNR_fade = y_test_single_SNR_fade.T\n",
        "\n",
        "# Special case for M=2 since the data imported was only 1D\n",
        "if(len(y_train_single_SNR.shape) == 1):\n",
        "  y_train_single_SNR = y_train_single_SNR.reshape([-1,1])\n",
        "  y_valid_single_SNR = y_valid_single_SNR.reshape([-1,1])\n",
        "  y_test_single_SNR = y_test_single_SNR.reshape([-1,1])\n",
        "  y_train_multiple_SNR = y_train_multiple_SNR.reshape([-1,1])\n",
        "  y_valid_multiple_SNR = y_valid_multiple_SNR.reshape([-1,1])\n",
        "  y_test_multiple_SNR = y_test_multiple_SNR.reshape([-1,1])\n",
        "  y_train_single_SNR_fade = y_train_single_SNR_fade.reshape([-1,1])\n",
        "  y_valid_single_SNR_fade = y_valid_single_SNR_fade.reshape([-1,1])\n",
        "  y_test_single_SNR_fade = y_test_single_SNR_fade.reshape([-1,1])\n",
        "\n",
        "print(\"Training data single SNR shape: \\t\\t\", X_train_single_SNR.shape)\n",
        "print(\"Validation data single SNR shape: \\t\\t\",X_valid_single_SNR.shape)\n",
        "print(\"Test data single SNR shape: \\t\\t\\t\" ,X_test_single_SNR.shape)\n",
        "\n",
        "print()\n",
        "print(\"Training label single SNR shape: \\t\\t\", y_train_single_SNR.shape)\n",
        "print(\"Validation label single SNR shape: \\t\\t\", y_valid_single_SNR.shape)\n",
        "print(\"Test label single SNR shape: \\t\\t\\t\", y_test_single_SNR.shape)\n",
        "\n",
        "print(\"--------------------------------------------------------------------------\")\n",
        "print()\n",
        "print(\"Training data multiple SNR shape: \\t\\t\", X_train_multiple_SNR.shape)\n",
        "print(\"Validation data multiple SNR shape: \\t\\t\",X_valid_multiple_SNR.shape)\n",
        "print(\"Test data multiple SNR shape: \\t\\t\\t\" ,X_test_multiple_SNR.shape)\n",
        "\n",
        "print()\n",
        "print(\"Training label multiple SNR shape: \\t\\t\", y_train_multiple_SNR.shape)\n",
        "print(\"Validation label multiple SNR shape: \\t\\t\", y_valid_multiple_SNR.shape)\n",
        "print(\"Test label multiple SNR shape: \\t\\t\\t\", y_test_multiple_SNR.shape)\n",
        "\n",
        "print(\"--------------------------------------------------------------------------\")\n",
        "print()\n",
        "print(\"Training data with fading shape: \\t\\t\", X_train_single_SNR_fade.shape)\n",
        "print(\"Validation data with fading shape: \\t\\t\",X_valid_single_SNR_fade.shape)\n",
        "print(\"Test data with fading shape: \\t\\t\\t\" ,X_test_single_SNR_fade.shape)\n",
        "\n",
        "print()\n",
        "print(\"Training label with fading shape: \\t\\t\", y_train_single_SNR_fade.shape)\n",
        "print(\"Validation label with fading shape: \\t\\t\", y_valid_single_SNR_fade.shape)\n",
        "print(\"Test label with fading shape: \\t\\t\\t\", y_test_single_SNR_fade.shape)"
      ],
      "execution_count": 9,
      "outputs": [
        {
          "output_type": "stream",
          "text": [
            "Training data single SNR shape: \t\t (10000, 2)\n",
            "Validation data single SNR shape: \t\t (1500, 2)\n",
            "Test data single SNR shape: \t\t\t (3000, 2)\n",
            "\n",
            "Training label single SNR shape: \t\t (10000, 1)\n",
            "Validation label single SNR shape: \t\t (1500, 1)\n",
            "Test label single SNR shape: \t\t\t (3000, 1)\n",
            "--------------------------------------------------------------------------\n",
            "\n",
            "Training data multiple SNR shape: \t\t (12750, 2)\n",
            "Validation data multiple SNR shape: \t\t (3825, 2)\n",
            "Test data multiple SNR shape: \t\t\t (7650, 2)\n",
            "\n",
            "Training label multiple SNR shape: \t\t (12750, 1)\n",
            "Validation label multiple SNR shape: \t\t (3825, 1)\n",
            "Test label multiple SNR shape: \t\t\t (7650, 1)\n",
            "--------------------------------------------------------------------------\n",
            "\n",
            "Training data with fading shape: \t\t (10000, 2)\n",
            "Validation data with fading shape: \t\t (1500, 2)\n",
            "Test data with fading shape: \t\t\t (3000, 2)\n",
            "\n",
            "Training label with fading shape: \t\t (10000, 1)\n",
            "Validation label with fading shape: \t\t (1500, 1)\n",
            "Test label with fading shape: \t\t\t (3000, 1)\n"
          ],
          "name": "stdout"
        }
      ]
    },
    {
      "cell_type": "markdown",
      "metadata": {
        "colab_type": "text",
        "id": "v-WAWm7SnsA2"
      },
      "source": [
        "# Construct Fully Connected Neural Net trained on a single SNR\n"
      ]
    },
    {
      "cell_type": "markdown",
      "metadata": {
        "colab_type": "text",
        "id": "6zkFEwQ2BCcY"
      },
      "source": [
        "## Define the first model. Note that we have multiple outputs corresponding to each bit LLR."
      ]
    },
    {
      "cell_type": "code",
      "metadata": {
        "colab_type": "code",
        "id": "-xcVaRlk15Oe",
        "outputId": "bef60c68-0579-4b97-b768-4f6de33432b3",
        "colab": {
          "base_uri": "https://localhost:8080/",
          "height": 487
        }
      },
      "source": [
        "model_input = Input(shape=(X_train_single_SNR.shape[1]), name='model_input')\n",
        "num_outputs = y_train_single_SNR.shape[1]\n",
        "num_layers = 7\n",
        "\n",
        "# Create Dense Layers; these layers are shared between ALL outputs\n",
        "x = Dense(256, activation='relu')(model_input)\n",
        "for i in range(num_layers, 1, -1):\n",
        "  x = Dense(max(num_outputs*2, 2**i), activation=\"relu\")(x)\n",
        "\n",
        "# Create more Dense layers that are unique to each output\n",
        "output_vec = [None]*num_outputs\n",
        "for i in range(num_outputs):\n",
        "  out_layer_name = \"LLR_bit_\" + str(i+1)\n",
        "  bit_layer = Dense(4, activation  = 'relu', name = \"bit_layer_\" + str(i + 1))(x)\n",
        "  output_vec[i] = Dense(1, activation = \"linear\", name = out_layer_name)(bit_layer)\n",
        "\n",
        "model = Model(inputs = model_input, outputs = output_vec)\n",
        "model.summary()"
      ],
      "execution_count": 10,
      "outputs": [
        {
          "output_type": "stream",
          "text": [
            "Model: \"model\"\n",
            "_________________________________________________________________\n",
            "Layer (type)                 Output Shape              Param #   \n",
            "=================================================================\n",
            "model_input (InputLayer)     [(None, 2)]               0         \n",
            "_________________________________________________________________\n",
            "dense (Dense)                (None, 256)               768       \n",
            "_________________________________________________________________\n",
            "dense_1 (Dense)              (None, 128)               32896     \n",
            "_________________________________________________________________\n",
            "dense_2 (Dense)              (None, 64)                8256      \n",
            "_________________________________________________________________\n",
            "dense_3 (Dense)              (None, 32)                2080      \n",
            "_________________________________________________________________\n",
            "dense_4 (Dense)              (None, 16)                528       \n",
            "_________________________________________________________________\n",
            "dense_5 (Dense)              (None, 8)                 136       \n",
            "_________________________________________________________________\n",
            "dense_6 (Dense)              (None, 4)                 36        \n",
            "_________________________________________________________________\n",
            "bit_layer_1 (Dense)          (None, 4)                 20        \n",
            "_________________________________________________________________\n",
            "LLR_bit_1 (Dense)            (None, 1)                 5         \n",
            "=================================================================\n",
            "Total params: 44,725\n",
            "Trainable params: 44,725\n",
            "Non-trainable params: 0\n",
            "_________________________________________________________________\n"
          ],
          "name": "stdout"
        }
      ]
    },
    {
      "cell_type": "markdown",
      "metadata": {
        "colab_type": "text",
        "id": "OACao-k4BNnN"
      },
      "source": [
        "## Train the model on single SNR"
      ]
    },
    {
      "cell_type": "code",
      "metadata": {
        "colab_type": "code",
        "id": "lTfp_fG7FMrv",
        "colab": {}
      },
      "source": [
        "# Experimented with model parameters:\n",
        "# Can choose loss function, metrics, optimizer parameters\n",
        "model.compile(loss='logcosh',\n",
        "              optimizer = optimizers.Nadam(),\n",
        "              metrics = ['mean_squared_error'])\n",
        "\n",
        "# Since we have one output per bit, store the results of each its own list\n",
        "y_train_flattened = [None] * num_outputs\n",
        "y_valid_flattened = [None] * num_outputs\n",
        "y_test_flattened = [None] * num_outputs\n",
        "\n",
        "# Load the list with the LLRs of each bit\n",
        "for i in range(num_outputs):\n",
        "  y_train_flattened[i] = y_train_single_SNR[:,i]\n",
        "  y_valid_flattened[i] = y_valid_single_SNR[:,i]\n",
        "  y_test_flattened[i] = y_test_single_SNR[:,i]\n",
        "\n",
        "# Train the model finally\n",
        "history = model.fit(X_train_single_SNR, y_train_flattened, validation_data=(X_valid_single_SNR, y_valid_flattened), batch_size=50, epochs=100, verbose = 0)"
      ],
      "execution_count": 0,
      "outputs": []
    },
    {
      "cell_type": "markdown",
      "metadata": {
        "colab_type": "text",
        "id": "RPbbX8COBQMT"
      },
      "source": [
        "## Evaluate the Model on the same SNR\n",
        "<a id='16_QAM_train_test_2dB'></a>"
      ]
    },
    {
      "cell_type": "code",
      "metadata": {
        "colab_type": "code",
        "id": "5LqbmULwsdMT",
        "outputId": "cd7d4879-e1f8-4160-8d6d-846f76c0d2ef",
        "colab": {
          "base_uri": "https://localhost:8080/",
          "height": 185
        }
      },
      "source": [
        "# Test model on the validation and test set and report results\n",
        "score_val = model.evaluate(X_valid_single_SNR, y_valid_flattened, batch_size = 100, verbose=0)\n",
        "score_test = model.evaluate(X_test_single_SNR, y_test_flattened, batch_size = 100, verbose=0)\n",
        "\n",
        "print(\"Evaluate model on the validation set:\")\n",
        "print(\"---------------------------------------------------\")\n",
        "print(\"Total Loss: \\t\\t\\t\", score_val[0])\n",
        "for i in range(num_outputs):\n",
        "  print(\"Bit \" + str(i) + \" [Loss, MSE] is: \\t\\t\", score_val[i+ (num_outputs != 1)], \"\\t, \", score_val[i+ 1 + 2*(num_outputs != 1)])\n",
        "\n",
        "print(\"\\n\\nEvaluate model on the test set:\")\n",
        "print(\"---------------------------------------------------\")\n",
        "print(\"Total Loss: \\t\\t\\t\", score_test[0])\n",
        "for i in range(num_outputs):\n",
        "  print(\"Bit \" + str(i) + \" [Loss, MSE] is: \\t\\t\", score_test[i+ (num_outputs != 1)], \"\\t, \", score_test[i+ 1 + 2*(num_outputs != 1)])"
      ],
      "execution_count": 12,
      "outputs": [
        {
          "output_type": "stream",
          "text": [
            "Evaluate model on the validation set:\n",
            "---------------------------------------------------\n",
            "Total Loss: \t\t\t 9.017876436701044e-05\n",
            "Bit 0 [Loss, MSE] is: \t\t 9.017876436701044e-05 \t,  0.00018037726\n",
            "\n",
            "\n",
            "Evaluate model on the test set:\n",
            "---------------------------------------------------\n",
            "Total Loss: \t\t\t 8.675966115940052e-05\n",
            "Bit 0 [Loss, MSE] is: \t\t 8.675966115940052e-05 \t,  0.00017353926\n"
          ],
          "name": "stdout"
        }
      ]
    },
    {
      "cell_type": "markdown",
      "metadata": {
        "colab_type": "text",
        "id": "je6LYZDlBczS"
      },
      "source": [
        "### Plot the LLRs acquired from the neural net vs actual LLRs`"
      ]
    },
    {
      "cell_type": "code",
      "metadata": {
        "colab_type": "code",
        "id": "aTyAbuVtBwsy",
        "outputId": "0950603d-73af-4313-ed6d-148aa0f21f2f",
        "colab": {
          "base_uri": "https://localhost:8080/",
          "height": 731
        }
      },
      "source": [
        "y_pred = [None]*num_outputs\n",
        "y_pred = model.predict(X_test_single_SNR)\n",
        "\n",
        "f = plt.figure()\n",
        "f.set_figheight(10)\n",
        "f.set_figwidth(10)\n",
        "for i in range(num_outputs):\n",
        "  if num_outputs != 1:\n",
        "    predicted = y_pred[i][:]\n",
        "  else:\n",
        "    predicted = y_pred\n",
        "\n",
        "  plt.subplot(2,2,i+1)\n",
        "  plt.scatter(np.asarray(predicted), y_test_single_SNR[:,i].reshape([-1,1]))\n",
        "  plt.plot(y_test_single_SNR[:,i].reshape([-1,1]), y_test_single_SNR[:,i].reshape([-1,1]), 'k')\n",
        "  plt.xlabel(\"Predicted Neural Network LLRs\")\n",
        "  plt.ylabel(\"Actual LLRs\")\n",
        "  plt.title(\"Bit \" + str(i) + \": \" + MODULATION)\n",
        "  plt.grid()\n",
        "\n",
        "plt.subplots_adjust(wspace=0.5, hspace=0.5)\n",
        "f.legend(('Results if model was 100% Accurate', 'Results', ), loc = 'lower center')\n",
        "f.suptitle(\"Results for Model trained and tested on \" + str(SNR) + \" dB\")\n",
        "plt.show()"
      ],
      "execution_count": 13,
      "outputs": [
        {
          "output_type": "display_data",
          "data": {
            "image/png": "[encoded data removed]",
            "text/plain": [
              "<Figure size 720x720 with 1 Axes>"
            ]
          },
          "metadata": {
            "tags": []
          }
        }
      ]
    },
    {
      "cell_type": "code",
      "metadata": {
        "id": "F-xvj30smjcd",
        "colab_type": "code",
        "outputId": "79d5c594-ef71-4c53-d09b-3b00a785a274",
        "colab": {
          "base_uri": "https://localhost:8080/",
          "height": 406
        }
      },
      "source": [
        "model.save('llr_bpsk_model_single.h5', include_optimizer=False)\n",
        "\n",
        "!python3 keras_export/convert_model.py llr_bpsk_model_single.h5 bpsk_single.json"
      ],
      "execution_count": 31,
      "outputs": [
        {
          "output_type": "stream",
          "text": [
            "2020-03-16 00:15:38.064283: W tensorflow/stream_executor/platform/default/dso_loader.cc:55] Could not load dynamic library 'libnvinfer.so.6'; dlerror: libnvinfer.so.6: cannot open shared object file: No such file or directory; LD_LIBRARY_PATH: /usr/local/nvidia/lib:/usr/local/nvidia/lib64\n",
            "2020-03-16 00:15:38.064379: W tensorflow/stream_executor/platform/default/dso_loader.cc:55] Could not load dynamic library 'libnvinfer_plugin.so.6'; dlerror: libnvinfer_plugin.so.6: cannot open shared object file: No such file or directory; LD_LIBRARY_PATH: /usr/local/nvidia/lib:/usr/local/nvidia/lib64\n",
            "2020-03-16 00:15:38.064397: W tensorflow/compiler/tf2tensorrt/utils/py_utils.cc:30] Cannot dlopen some TensorRT libraries. If you would like to use Nvidia GPU with TensorRT, please make sure the missing libraries mentioned above are installed properly.\n",
            "loading llr_bpsk_model_single.h5\n",
            "2020-03-16 00:15:38.992912: E tensorflow/stream_executor/cuda/cuda_driver.cc:351] failed call to cuInit: CUDA_ERROR_NO_DEVICE: no CUDA-capable device is detected\n",
            "WARNING:tensorflow:No training configuration found in save file: the model was *not* compiled. Compile it manually.\n",
            "Forward pass took 0.075814 s.\n",
            "Forward pass took 0.019183 s.\n",
            "Forward pass took 0.017802 s.\n",
            "Starting performance measurements.\n",
            "Forward pass took 0.022198 s.\n",
            "Forward pass took 0.017838 s.\n",
            "Forward pass took 0.020343 s.\n",
            "Forward pass took 0.020211 s.\n",
            "Forward pass took 0.017249 s.\n",
            "Forward pass took 0.0195678 s on average.\n",
            "Converting model architecture.\n",
            "Converting model weights.\n",
            "Done converting model weights.\n",
            "Calculating model hash.\n",
            "Model conversion finished.\n",
            "writing bpsk_single.json\n"
          ],
          "name": "stdout"
        }
      ]
    },
    {
      "cell_type": "code",
      "metadata": {
        "id": "XMPN56JhsaAA",
        "colab_type": "code",
        "colab": {
          "base_uri": "https://localhost:8080/",
          "height": 34
        },
        "outputId": "fea09acd-0ad5-48a9-e4ad-cc87cdf69a2a"
      },
      "source": [
        "x = np.array([1.39594,0.343259]).reshape([-1,1]).T\n",
        "print(model.predict(x))"
      ],
      "execution_count": 32,
      "outputs": [
        {
          "output_type": "stream",
          "text": [
            "[[8.475088]]\n"
          ],
          "name": "stdout"
        }
      ]
    },
    {
      "cell_type": "markdown",
      "metadata": {
        "colab_type": "text",
        "id": "2L3XpK9jELEs"
      },
      "source": [
        "## Evaluate the Model on various SNR"
      ]
    },
    {
      "cell_type": "code",
      "metadata": {
        "colab_type": "code",
        "id": "aYO0sGOjEV4-",
        "outputId": "7f595af2-a1af-4052-885b-4b0c21ba6690",
        "colab": {
          "base_uri": "https://localhost:8080/",
          "height": 370
        }
      },
      "source": [
        "y_test_flattened = [None] * num_outputs\n",
        "\n",
        "for i in range(num_outputs):\n",
        "  y_test_flattened[i] = y_test_multiple_SNR[:,i]\n",
        "\n",
        "# Test model on the validation and test set and report results\n",
        "score_test = model.evaluate(X_test_multiple_SNR, y_test_flattened, batch_size = 100, verbose=0)\n",
        "\n",
        "print(\"Evaluate model on multiple SNR:\")\n",
        "print(\"---------------------------------------------------\")\n",
        "print(\"Total Loss: \\t\\t\\t\", score_test[0])\n",
        "for i in range(num_outputs):\n",
        "  print(\"Bit \" + str(i) + \" [Loss, MSE] is: \\t\\t\", score_test[i+ (num_outputs != 1)], \"\\t, \", score_test[i+ 1 + 2*(num_outputs != 1)])"
      ],
      "execution_count": 0,
      "outputs": [
        {
          "output_type": "error",
          "ename": "RuntimeError",
          "evalue": "ignored",
          "traceback": [
            "\u001b[0;31m---------------------------------------------------------------------------\u001b[0m",
            "\u001b[0;31mRuntimeError\u001b[0m                              Traceback (most recent call last)",
            "\u001b[0;32m<ipython-input-9-deb86ac8dbf8>\u001b[0m in \u001b[0;36m<module>\u001b[0;34m()\u001b[0m\n\u001b[1;32m      5\u001b[0m \u001b[0;34m\u001b[0m\u001b[0m\n\u001b[1;32m      6\u001b[0m \u001b[0;31m# Test model on the validation and test set and report results\u001b[0m\u001b[0;34m\u001b[0m\u001b[0;34m\u001b[0m\u001b[0;34m\u001b[0m\u001b[0m\n\u001b[0;32m----> 7\u001b[0;31m \u001b[0mscore_test\u001b[0m \u001b[0;34m=\u001b[0m \u001b[0mmodel\u001b[0m\u001b[0;34m.\u001b[0m\u001b[0mevaluate\u001b[0m\u001b[0;34m(\u001b[0m\u001b[0mX_test_multiple_SNR\u001b[0m\u001b[0;34m,\u001b[0m \u001b[0my_test_flattened\u001b[0m\u001b[0;34m,\u001b[0m \u001b[0mbatch_size\u001b[0m \u001b[0;34m=\u001b[0m \u001b[0;36m100\u001b[0m\u001b[0;34m,\u001b[0m \u001b[0mverbose\u001b[0m\u001b[0;34m=\u001b[0m\u001b[0;36m0\u001b[0m\u001b[0;34m)\u001b[0m\u001b[0;34m\u001b[0m\u001b[0;34m\u001b[0m\u001b[0m\n\u001b[0m\u001b[1;32m      8\u001b[0m \u001b[0;34m\u001b[0m\u001b[0m\n\u001b[1;32m      9\u001b[0m \u001b[0mprint\u001b[0m\u001b[0;34m(\u001b[0m\u001b[0;34m\"Evaluate model on multiple SNR:\"\u001b[0m\u001b[0;34m)\u001b[0m\u001b[0;34m\u001b[0m\u001b[0;34m\u001b[0m\u001b[0m\n",
            "\u001b[0;32m/usr/local/lib/python3.6/dist-packages/tensorflow_core/python/keras/engine/training.py\u001b[0m in \u001b[0;36mevaluate\u001b[0;34m(self, x, y, batch_size, verbose, sample_weight, steps, callbacks, max_queue_size, workers, use_multiprocessing)\u001b[0m\n\u001b[1;32m    913\u001b[0m     \"\"\"\n\u001b[1;32m    914\u001b[0m     \u001b[0m_keras_api_gauge\u001b[0m\u001b[0;34m.\u001b[0m\u001b[0mget_cell\u001b[0m\u001b[0;34m(\u001b[0m\u001b[0;34m'evaluate'\u001b[0m\u001b[0;34m)\u001b[0m\u001b[0;34m.\u001b[0m\u001b[0mset\u001b[0m\u001b[0;34m(\u001b[0m\u001b[0;32mTrue\u001b[0m\u001b[0;34m)\u001b[0m\u001b[0;34m\u001b[0m\u001b[0;34m\u001b[0m\u001b[0m\n\u001b[0;32m--> 915\u001b[0;31m     \u001b[0mself\u001b[0m\u001b[0;34m.\u001b[0m\u001b[0m_assert_compile_was_called\u001b[0m\u001b[0;34m(\u001b[0m\u001b[0;34m)\u001b[0m\u001b[0;34m\u001b[0m\u001b[0;34m\u001b[0m\u001b[0m\n\u001b[0m\u001b[1;32m    916\u001b[0m     \u001b[0mself\u001b[0m\u001b[0;34m.\u001b[0m\u001b[0m_check_call_args\u001b[0m\u001b[0;34m(\u001b[0m\u001b[0;34m'evaluate'\u001b[0m\u001b[0;34m)\u001b[0m\u001b[0;34m\u001b[0m\u001b[0;34m\u001b[0m\u001b[0m\n\u001b[1;32m    917\u001b[0m \u001b[0;34m\u001b[0m\u001b[0m\n",
            "\u001b[0;32m/usr/local/lib/python3.6/dist-packages/tensorflow_core/python/keras/engine/training.py\u001b[0m in \u001b[0;36m_assert_compile_was_called\u001b[0;34m(self)\u001b[0m\n\u001b[1;32m   2826\u001b[0m     \u001b[0;31m# (i.e. whether the model is built and its inputs/outputs are set).\u001b[0m\u001b[0;34m\u001b[0m\u001b[0;34m\u001b[0m\u001b[0;34m\u001b[0m\u001b[0m\n\u001b[1;32m   2827\u001b[0m     \u001b[0;32mif\u001b[0m \u001b[0;32mnot\u001b[0m \u001b[0mself\u001b[0m\u001b[0;34m.\u001b[0m\u001b[0moptimizer\u001b[0m\u001b[0;34m:\u001b[0m\u001b[0;34m\u001b[0m\u001b[0;34m\u001b[0m\u001b[0m\n\u001b[0;32m-> 2828\u001b[0;31m       raise RuntimeError('You must compile your model before '\n\u001b[0m\u001b[1;32m   2829\u001b[0m                          \u001b[0;34m'training/testing. '\u001b[0m\u001b[0;34m\u001b[0m\u001b[0;34m\u001b[0m\u001b[0m\n\u001b[1;32m   2830\u001b[0m                          'Use `model.compile(optimizer, loss)`.')\n",
            "\u001b[0;31mRuntimeError\u001b[0m: You must compile your model before training/testing. Use `model.compile(optimizer, loss)`."
          ]
        }
      ]
    },
    {
      "cell_type": "markdown",
      "metadata": {
        "id": "AUyejsFYTE8-",
        "colab_type": "text"
      },
      "source": [
        "### Plot the LLRs acquired from the neural net vs actual LLRs"
      ]
    },
    {
      "cell_type": "code",
      "metadata": {
        "id": "YT_micrKTFfd",
        "colab_type": "code",
        "outputId": "dc2d7193-e74d-433a-a668-a02332a8935f",
        "colab": {
          "base_uri": "https://localhost:8080/",
          "height": 731
        }
      },
      "source": [
        "y_pred = [None]*num_outputs\n",
        "y_pred = model.predict(X_test_multiple_SNR)\n",
        "\n",
        "f = plt.figure()\n",
        "f.set_figheight(10)\n",
        "f.set_figwidth(10)\n",
        "for i in range(num_outputs):\n",
        "  if num_outputs != 1:\n",
        "    predicted = y_pred[i][:]\n",
        "  else:\n",
        "    predicted = y_pred\n",
        "\n",
        "  plt.subplot(2,2,i+1)\n",
        "  plt.scatter(np.asarray(predicted), y_test_multiple_SNR[:,i].reshape([-1,1]))\n",
        "  plt.plot(y_test_multiple_SNR[:,i].reshape([-1,1]), y_test_multiple_SNR[:,i].reshape([-1,1]), 'k')\n",
        "  plt.xlabel(\"Predicted Neural Network LLRs\")\n",
        "  plt.ylabel(\"Actual LLRs\")\n",
        "  plt.title(\"Bit \" + str(i) + \": \" + MODULATION)\n",
        "  plt.grid()\n",
        "\n",
        "f.legend(('Results if model was 100% Accurate', 'Results', ), loc = 'lower center')\n",
        "f.suptitle(\"Results for Model trained on \" + str(SNR) + \" dB\" \" and tested on [\" + str(SNR_RANGE_MIN) + \", \" + str(SNR_RANGE_MAX) + \"]\" )\n",
        "plt.subplots_adjust(wspace=0.5, hspace=0.5)\n",
        "plt.show()"
      ],
      "execution_count": 0,
      "outputs": [
        {
          "output_type": "display_data",
          "data": {
            "image/png": "[encoded data removed]",
            "text/plain": [
              "<Figure size 720x720 with 4 Axes>"
            ]
          },
          "metadata": {
            "tags": []
          }
        }
      ]
    },
    {
      "cell_type": "markdown",
      "metadata": {
        "id": "KENSSMRFUaaq",
        "colab_type": "text"
      },
      "source": [
        "# Construct Fully Connected Neural Net trained on multiple SNR"
      ]
    },
    {
      "cell_type": "markdown",
      "metadata": {
        "id": "fm9m_wwAXXWH",
        "colab_type": "text"
      },
      "source": [
        "## Define the second model. Note that we have multiple outputs corresponding to each bit LLR."
      ]
    },
    {
      "cell_type": "code",
      "metadata": {
        "id": "hiCiG82PXj-h",
        "colab_type": "code",
        "outputId": "fccc55f2-42d8-4b9f-aad3-c28b4e4a0f1b",
        "colab": {
          "base_uri": "https://localhost:8080/",
          "height": 454
        }
      },
      "source": [
        "model_input = Input(shape=(X_train_multiple_SNR.shape[1]), name='model_input')\n",
        "num_outputs = y_train_multiple_SNR.shape[1]\n",
        "num_layers = 6\n",
        "\n",
        "x = Dense(128, activation='relu')(model_input)\n",
        "for i in range(num_layers, 1, -1):\n",
        "  x = Dense(max(num_outputs*2, 2**i), activation=\"relu\")(x)\n",
        "\n",
        "output_vec = [None]*num_outputs\n",
        "for i in range(num_outputs):\n",
        "  out_layer_name = \"LLR_bit_\" + str(i+1)\n",
        "  bit_layer = Dense(4, activation  = 'relu', name = \"bit_layer_\" + str(i + 1))(x)\n",
        "  output_vec[i] = Dense(1, activation = \"linear\", name = out_layer_name)(bit_layer)\n",
        "\n",
        "model_multiple_snr = Model(inputs = model_input, outputs = output_vec)\n",
        "model_multiple_snr.summary()"
      ],
      "execution_count": 0,
      "outputs": [
        {
          "output_type": "stream",
          "text": [
            "Model: \"model\"\n",
            "_________________________________________________________________\n",
            "Layer (type)                 Output Shape              Param #   \n",
            "=================================================================\n",
            "model_input (InputLayer)     [(None, 2)]               0         \n",
            "_________________________________________________________________\n",
            "dense (Dense)                (None, 128)               384       \n",
            "_________________________________________________________________\n",
            "dense_1 (Dense)              (None, 64)                8256      \n",
            "_________________________________________________________________\n",
            "dense_2 (Dense)              (None, 32)                2080      \n",
            "_________________________________________________________________\n",
            "dense_3 (Dense)              (None, 16)                528       \n",
            "_________________________________________________________________\n",
            "dense_4 (Dense)              (None, 8)                 136       \n",
            "_________________________________________________________________\n",
            "dense_5 (Dense)              (None, 4)                 36        \n",
            "_________________________________________________________________\n",
            "bit_layer_1 (Dense)          (None, 4)                 20        \n",
            "_________________________________________________________________\n",
            "LLR_bit_1 (Dense)            (None, 1)                 5         \n",
            "=================================================================\n",
            "Total params: 11,445\n",
            "Trainable params: 11,445\n",
            "Non-trainable params: 0\n",
            "_________________________________________________________________\n"
          ],
          "name": "stdout"
        }
      ]
    },
    {
      "cell_type": "markdown",
      "metadata": {
        "id": "dDOwt8ypXkae",
        "colab_type": "text"
      },
      "source": [
        "## Train the model on multiple SNR"
      ]
    },
    {
      "cell_type": "code",
      "metadata": {
        "id": "3dEvgbfhYF-z",
        "colab_type": "code",
        "colab": {}
      },
      "source": [
        "# Experimented with model parameters:\n",
        "# Can choose loss function, metrics, optimizer parameters\n",
        "model_multiple_snr.compile(loss='logcosh',\n",
        "              optimizer = optimizers.Nadam(),\n",
        "              metrics = ['mean_squared_error'])\n",
        "\n",
        "# Since we have one output per bit, store the results of each its own list\n",
        "y_train_flattened = [None] * num_outputs\n",
        "y_valid_flattened = [None] * num_outputs\n",
        "y_test_flattened = [None] * num_outputs\n",
        "\n",
        "for i in range(num_outputs):\n",
        "  y_train_flattened[i] = y_train_multiple_SNR[:,i]\n",
        "  y_valid_flattened[i] = y_valid_multiple_SNR[:,i]\n",
        "  y_test_flattened[i] = y_test_multiple_SNR[:,i]\n",
        "\n",
        "history = model_multiple_snr.fit(X_train_multiple_SNR, y_train_flattened, validation_data=(X_valid_multiple_SNR, y_valid_flattened), batch_size=50, epochs=100, verbose = 0)"
      ],
      "execution_count": 0,
      "outputs": []
    },
    {
      "cell_type": "markdown",
      "metadata": {
        "id": "UJro6fCHYGf7",
        "colab_type": "text"
      },
      "source": [
        "## Evaluate the model on a various SNR"
      ]
    },
    {
      "cell_type": "code",
      "metadata": {
        "id": "9KpKZzdtYKbS",
        "colab_type": "code",
        "outputId": "39bbfec5-50e5-4584-a462-28cb74fb2110",
        "colab": {
          "base_uri": "https://localhost:8080/",
          "height": 185
        }
      },
      "source": [
        "y_valid_flattened = [None] * num_outputs\n",
        "y_test_flattened = [None] * num_outputs\n",
        "\n",
        "for i in range(num_outputs):\n",
        "  y_valid_flattened[i] = y_valid_multiple_SNR[:,i]\n",
        "  y_test_flattened[i] = y_test_multiple_SNR[:,i]\n",
        "\n",
        "# Test model on the validation and test set and report results\n",
        "score_val = model_multiple_snr.evaluate(X_valid_multiple_SNR, y_valid_flattened, batch_size = 100, verbose=0)\n",
        "score_test = model_multiple_snr.evaluate(X_test_multiple_SNR, y_test_flattened, batch_size = 100, verbose=0)\n",
        "\n",
        "print(\"Evaluate model on the validation set:\")\n",
        "print(\"---------------------------------------------------\")\n",
        "print(\"Total Loss: \\t\\t\\t\", score_val[0])\n",
        "for i in range(num_outputs):\n",
        "  print(\"Bit \" + str(i) + \" [Loss, MSE] is: \\t\\t\", score_val[i+ (num_outputs != 1)], \"\\t, \", score_val[i+ 1 + 2*(num_outputs != 1)])\n",
        "\n",
        "print(\"\\n\\nEvaluate model on the test set:\")\n",
        "print(\"---------------------------------------------------\")\n",
        "print(\"Total Loss: \\t\\t\\t\", score_test[0])\n",
        "for i in range(num_outputs):\n",
        "  print(\"Bit \" + str(i) + \" [Loss, MSE] is: \\t\\t\", score_test[i+ (num_outputs != 1)], \"\\t, \", score_test[i+ 1 + 2*(num_outputs != 1)])"
      ],
      "execution_count": 0,
      "outputs": [
        {
          "output_type": "stream",
          "text": [
            "Evaluate model on the validation set:\n",
            "---------------------------------------------------\n",
            "Total Loss: \t\t\t 0.2509582158592012\n",
            "Bit 0 [Loss, MSE] is: \t\t 0.2509582158592012 \t,  0.6393128\n",
            "\n",
            "\n",
            "Evaluate model on the test set:\n",
            "---------------------------------------------------\n",
            "Total Loss: \t\t\t 0.243916877034102\n",
            "Bit 0 [Loss, MSE] is: \t\t 0.243916877034102 \t,  0.61294144\n"
          ],
          "name": "stdout"
        }
      ]
    },
    {
      "cell_type": "markdown",
      "metadata": {
        "id": "4-92GqNJcGt2",
        "colab_type": "text"
      },
      "source": [
        "### Plot the LLRs acquired from the neural net vs actual LLRs`"
      ]
    },
    {
      "cell_type": "code",
      "metadata": {
        "id": "t9qp8ghCcHkg",
        "colab_type": "code",
        "outputId": "09059d57-f7df-4c93-905c-5ce1aa53b04d",
        "colab": {
          "base_uri": "https://localhost:8080/",
          "height": 731
        }
      },
      "source": [
        "y_pred = [None]*num_outputs\n",
        "y_pred = model_multiple_snr.predict(X_test_multiple_SNR)\n",
        "\n",
        "f = plt.figure()\n",
        "f.set_figheight(10)\n",
        "f.set_figwidth(10)\n",
        "for i in range(num_outputs):\n",
        "  if num_outputs != 1:\n",
        "    predicted = y_pred[i][:]\n",
        "  else:\n",
        "    predicted = y_pred\n",
        "\n",
        "  plt.subplot(2,2,i+1)\n",
        "  plt.scatter(np.asarray(predicted), y_test_multiple_SNR[:,i].reshape([-1,1]))\n",
        "  plt.plot(y_test_multiple_SNR[:,i].reshape([-1,1]), y_test_multiple_SNR[:,i].reshape([-1,1]), 'k')\n",
        "  plt.xlabel(\"Predicted Neural Network LLRs\")\n",
        "  plt.ylabel(\"Actual LLRs\")\n",
        "  plt.title(\"Bit \" + str(i) + \": \" + MODULATION)\n",
        "  plt.grid()\n",
        "\n",
        "f.legend(('Results if model was 100% Accurate', 'Results', ), loc = 'lower center')\n",
        "f.suptitle(\"Results for Model trained on [\" + str(SNR_RANGE_MIN) + \", \" + str(SNR_RANGE_MAX) + \"]\" + \" dB\" \" and tested on [\" + str(SNR_RANGE_MIN) + \", \" + str(SNR_RANGE_MAX) + \"]\" )\n",
        "plt.subplots_adjust(wspace=0.5, hspace=0.5)\n",
        "plt.show()"
      ],
      "execution_count": 0,
      "outputs": [
        {
          "output_type": "display_data",
          "data": {
            "image/png": "[encoded data removed]",
            "text/plain": [
              "<Figure size 720x720 with 1 Axes>"
            ]
          },
          "metadata": {
            "tags": []
          }
        }
      ]
    },
    {
      "cell_type": "code",
      "metadata": {
        "id": "IV1NC_9rNqh3",
        "colab_type": "code",
        "outputId": "6cf9220f-0f31-498a-c230-a9b0d43ba3e5",
        "colab": {
          "base_uri": "https://localhost:8080/",
          "height": 406
        }
      },
      "source": [
        "model_multiple_snr.save('llr_bpsk_model.h5', include_optimizer=False)\n",
        "\n",
        "!python3 keras_export/convert_model.py llr_model.h5 fdeep_model.json\n"
      ],
      "execution_count": 0,
      "outputs": [
        {
          "output_type": "stream",
          "text": [
            "2020-03-15 08:48:12.544187: W tensorflow/stream_executor/platform/default/dso_loader.cc:55] Could not load dynamic library 'libnvinfer.so.6'; dlerror: libnvinfer.so.6: cannot open shared object file: No such file or directory; LD_LIBRARY_PATH: /usr/local/nvidia/lib:/usr/local/nvidia/lib64\n",
            "2020-03-15 08:48:12.544292: W tensorflow/stream_executor/platform/default/dso_loader.cc:55] Could not load dynamic library 'libnvinfer_plugin.so.6'; dlerror: libnvinfer_plugin.so.6: cannot open shared object file: No such file or directory; LD_LIBRARY_PATH: /usr/local/nvidia/lib:/usr/local/nvidia/lib64\n",
            "2020-03-15 08:48:12.544307: W tensorflow/compiler/tf2tensorrt/utils/py_utils.cc:30] Cannot dlopen some TensorRT libraries. If you would like to use Nvidia GPU with TensorRT, please make sure the missing libraries mentioned above are installed properly.\n",
            "loading llr_model.h5\n",
            "2020-03-15 08:48:13.831396: E tensorflow/stream_executor/cuda/cuda_driver.cc:351] failed call to cuInit: CUDA_ERROR_NO_DEVICE: no CUDA-capable device is detected\n",
            "WARNING:tensorflow:No training configuration found in save file: the model was *not* compiled. Compile it manually.\n",
            "Forward pass took 0.11328 s.\n",
            "Forward pass took 0.028612 s.\n",
            "Forward pass took 0.025752 s.\n",
            "Starting performance measurements.\n",
            "Forward pass took 0.022917 s.\n",
            "Forward pass took 0.022307 s.\n",
            "Forward pass took 0.025632 s.\n",
            "Forward pass took 0.023578 s.\n",
            "Forward pass took 0.022344 s.\n",
            "Forward pass took 0.0233556 s on average.\n",
            "Converting model architecture.\n",
            "Converting model weights.\n",
            "Done converting model weights.\n",
            "Calculating model hash.\n",
            "Model conversion finished.\n",
            "writing fdeep_model.json\n"
          ],
          "name": "stdout"
        }
      ]
    },
    {
      "cell_type": "code",
      "metadata": {
        "id": "zK2sldd_I6HO",
        "colab_type": "code",
        "outputId": "59351f8a-e523-489b-a7a2-f92fabfe92e8",
        "colab": {
          "base_uri": "https://localhost:8080/",
          "height": 84
        }
      },
      "source": [
        "x = np.array([1.1,2.2]).reshape([-1,1]).T\n",
        "\n",
        "model_multiple_snr.predict(x)\n"
      ],
      "execution_count": 0,
      "outputs": [
        {
          "output_type": "execute_result",
          "data": {
            "text/plain": [
              "[array([[0.8118974]], dtype=float32),\n",
              " array([[-3.3678126]], dtype=float32),\n",
              " array([[2.994915]], dtype=float32),\n",
              " array([[7.1531096]], dtype=float32)]"
            ]
          },
          "metadata": {
            "tags": []
          },
          "execution_count": 27
        }
      ]
    },
    {
      "cell_type": "markdown",
      "metadata": {
        "id": "VKThSdPRv4k9",
        "colab_type": "text"
      },
      "source": [
        "# Construct Fully Connected Nerual Net trained on Single SNR with Fading"
      ]
    },
    {
      "cell_type": "markdown",
      "metadata": {
        "id": "0ZzwJVDqwEeV",
        "colab_type": "text"
      },
      "source": [
        "## Define the third model. Note that we have multiple outputs corresponding to each bit LLR."
      ]
    },
    {
      "cell_type": "code",
      "metadata": {
        "id": "6NQ6opMhv-Uo",
        "colab_type": "code",
        "outputId": "ef47afbb-d260-4935-9298-3155ea0b9219",
        "colab": {
          "base_uri": "https://localhost:8080/",
          "height": 689
        }
      },
      "source": [
        "model_input = Input(shape=(X_train_single_SNR_fade.shape[1]), name='model_input')\n",
        "num_outputs = y_train_single_SNR_fade.shape[1]\n",
        "num_layers = 6\n",
        "\n",
        "x = Dense(128, activation='relu')(model_input)\n",
        "x = Dropout(0.5)(x)\n",
        "for i in range(num_layers, 1, -1):\n",
        "  x = Dense(max(num_outputs*2, 2**i), activation=\"relu\")(x)\n",
        "\n",
        "output_vec = [None]*num_outputs\n",
        "for i in range(num_outputs):\n",
        "  out_layer_name = \"LLR_bit_\" + str(i+1)\n",
        "  bit_layer = Dense(4, activation  = 'relu', name = \"bit_layer_\" + str(i + 1))(x)\n",
        "  output_vec[i] = Dense(1, activation = \"linear\", name = out_layer_name)(bit_layer)\n",
        "\n",
        "model_fade = Model(inputs = model_input, outputs = output_vec)\n",
        "model_fade.summary()"
      ],
      "execution_count": 0,
      "outputs": [
        {
          "output_type": "stream",
          "text": [
            "Model: \"model_8\"\n",
            "__________________________________________________________________________________________________\n",
            "Layer (type)                    Output Shape         Param #     Connected to                     \n",
            "==================================================================================================\n",
            "model_input (InputLayer)        [(None, 2)]          0                                            \n",
            "__________________________________________________________________________________________________\n",
            "dense_50 (Dense)                (None, 128)          384         model_input[0][0]                \n",
            "__________________________________________________________________________________________________\n",
            "dropout_3 (Dropout)             (None, 128)          0           dense_50[0][0]                   \n",
            "__________________________________________________________________________________________________\n",
            "dense_51 (Dense)                (None, 64)           8256        dropout_3[0][0]                  \n",
            "__________________________________________________________________________________________________\n",
            "dense_52 (Dense)                (None, 32)           2080        dense_51[0][0]                   \n",
            "__________________________________________________________________________________________________\n",
            "dense_53 (Dense)                (None, 16)           528         dense_52[0][0]                   \n",
            "__________________________________________________________________________________________________\n",
            "dense_54 (Dense)                (None, 8)            136         dense_53[0][0]                   \n",
            "__________________________________________________________________________________________________\n",
            "dense_55 (Dense)                (None, 8)            72          dense_54[0][0]                   \n",
            "__________________________________________________________________________________________________\n",
            "bit_layer_1 (Dense)             (None, 4)            36          dense_55[0][0]                   \n",
            "__________________________________________________________________________________________________\n",
            "bit_layer_2 (Dense)             (None, 4)            36          dense_55[0][0]                   \n",
            "__________________________________________________________________________________________________\n",
            "bit_layer_3 (Dense)             (None, 4)            36          dense_55[0][0]                   \n",
            "__________________________________________________________________________________________________\n",
            "bit_layer_4 (Dense)             (None, 4)            36          dense_55[0][0]                   \n",
            "__________________________________________________________________________________________________\n",
            "LLR_bit_1 (Dense)               (None, 1)            5           bit_layer_1[0][0]                \n",
            "__________________________________________________________________________________________________\n",
            "LLR_bit_2 (Dense)               (None, 1)            5           bit_layer_2[0][0]                \n",
            "__________________________________________________________________________________________________\n",
            "LLR_bit_3 (Dense)               (None, 1)            5           bit_layer_3[0][0]                \n",
            "__________________________________________________________________________________________________\n",
            "LLR_bit_4 (Dense)               (None, 1)            5           bit_layer_4[0][0]                \n",
            "==================================================================================================\n",
            "Total params: 11,620\n",
            "Trainable params: 11,620\n",
            "Non-trainable params: 0\n",
            "__________________________________________________________________________________________________\n"
          ],
          "name": "stdout"
        }
      ]
    },
    {
      "cell_type": "markdown",
      "metadata": {
        "id": "yZXaOraJweYL",
        "colab_type": "text"
      },
      "source": [
        "## Train the model on faded symbols with AWGN noise"
      ]
    },
    {
      "cell_type": "code",
      "metadata": {
        "id": "aQ085R6Ewg2f",
        "colab_type": "code",
        "outputId": "18e9dcf8-4c4f-4067-c7b9-b16c95b7e534",
        "colab": {
          "base_uri": "https://localhost:8080/",
          "height": 337
        }
      },
      "source": [
        "# Experimented with model parameters:\n",
        "# Can choose loss function, metrics, optimizer parameters\n",
        "model_fade.compile(loss='logcosh',\n",
        "              optimizer = optimizers.Nadam(),\n",
        "              metrics = ['mean_squared_error'])\n",
        "\n",
        "# Since we have one output per bit, store the results of each its own list\n",
        "y_train_flattened = [None] * num_outputs\n",
        "y_valid_flattened = [None] * num_outputs\n",
        "y_test_flattened = [None] * num_outputs\n",
        "\n",
        "for i in range(num_outputs):\n",
        "  y_train_flattened[i] = y_train_single_SNR_fade[:,i]\n",
        "  y_valid_flattened[i] = y_valid_single_SNR_fade[:,i]\n",
        "  y_test_flattened[i] = y_test_single_SNR_fade[:,i]\n",
        "\n",
        "history = model_fade.fit(X_train_single_SNR_fade, y_train_flattened, validation_data=(X_valid_single_SNR_fade, y_valid_flattened), batch_size=50, epochs=100, verbose = 0)"
      ],
      "execution_count": 0,
      "outputs": [
        {
          "output_type": "error",
          "ename": "KeyboardInterrupt",
          "evalue": "ignored",
          "traceback": [
            "\u001b[0;31m---------------------------------------------------------------------------\u001b[0m",
            "\u001b[0;31mKeyboardInterrupt\u001b[0m                         Traceback (most recent call last)",
            "\u001b[0;32m<ipython-input-74-b4272b6b076e>\u001b[0m in \u001b[0;36m<module>\u001b[0;34m()\u001b[0m\n\u001b[1;32m     13\u001b[0m   \u001b[0my_test_flattened\u001b[0m\u001b[0;34m[\u001b[0m\u001b[0mi\u001b[0m\u001b[0;34m]\u001b[0m \u001b[0;34m=\u001b[0m \u001b[0my_test_single_SNR_fade\u001b[0m\u001b[0;34m[\u001b[0m\u001b[0;34m:\u001b[0m\u001b[0;34m,\u001b[0m\u001b[0mi\u001b[0m\u001b[0;34m]\u001b[0m\u001b[0;34m\u001b[0m\u001b[0;34m\u001b[0m\u001b[0m\n\u001b[1;32m     14\u001b[0m \u001b[0;34m\u001b[0m\u001b[0m\n\u001b[0;32m---> 15\u001b[0;31m \u001b[0mhistory\u001b[0m \u001b[0;34m=\u001b[0m \u001b[0mmodel_fade\u001b[0m\u001b[0;34m.\u001b[0m\u001b[0mfit\u001b[0m\u001b[0;34m(\u001b[0m\u001b[0mX_train_single_SNR_fade\u001b[0m\u001b[0;34m,\u001b[0m \u001b[0my_train_flattened\u001b[0m\u001b[0;34m,\u001b[0m \u001b[0mvalidation_data\u001b[0m\u001b[0;34m=\u001b[0m\u001b[0;34m(\u001b[0m\u001b[0mX_valid_single_SNR_fade\u001b[0m\u001b[0;34m,\u001b[0m \u001b[0my_valid_flattened\u001b[0m\u001b[0;34m)\u001b[0m\u001b[0;34m,\u001b[0m \u001b[0mbatch_size\u001b[0m\u001b[0;34m=\u001b[0m\u001b[0;36m50\u001b[0m\u001b[0;34m,\u001b[0m \u001b[0mepochs\u001b[0m\u001b[0;34m=\u001b[0m\u001b[0;36m100\u001b[0m\u001b[0;34m,\u001b[0m \u001b[0mverbose\u001b[0m \u001b[0;34m=\u001b[0m \u001b[0;36m0\u001b[0m\u001b[0;34m)\u001b[0m\u001b[0;34m\u001b[0m\u001b[0;34m\u001b[0m\u001b[0m\n\u001b[0m",
            "\u001b[0;32m/usr/local/lib/python3.6/dist-packages/tensorflow_core/python/keras/engine/training.py\u001b[0m in \u001b[0;36mfit\u001b[0;34m(self, x, y, batch_size, epochs, verbose, callbacks, validation_split, validation_data, shuffle, class_weight, sample_weight, initial_epoch, steps_per_epoch, validation_steps, validation_freq, max_queue_size, workers, use_multiprocessing, **kwargs)\u001b[0m\n\u001b[1;32m    817\u001b[0m         \u001b[0mmax_queue_size\u001b[0m\u001b[0;34m=\u001b[0m\u001b[0mmax_queue_size\u001b[0m\u001b[0;34m,\u001b[0m\u001b[0;34m\u001b[0m\u001b[0;34m\u001b[0m\u001b[0m\n\u001b[1;32m    818\u001b[0m         \u001b[0mworkers\u001b[0m\u001b[0;34m=\u001b[0m\u001b[0mworkers\u001b[0m\u001b[0;34m,\u001b[0m\u001b[0;34m\u001b[0m\u001b[0;34m\u001b[0m\u001b[0m\n\u001b[0;32m--> 819\u001b[0;31m         use_multiprocessing=use_multiprocessing)\n\u001b[0m\u001b[1;32m    820\u001b[0m \u001b[0;34m\u001b[0m\u001b[0m\n\u001b[1;32m    821\u001b[0m   def evaluate(self,\n",
            "\u001b[0;32m/usr/local/lib/python3.6/dist-packages/tensorflow_core/python/keras/engine/training_v2.py\u001b[0m in \u001b[0;36mfit\u001b[0;34m(self, model, x, y, batch_size, epochs, verbose, callbacks, validation_split, validation_data, shuffle, class_weight, sample_weight, initial_epoch, steps_per_epoch, validation_steps, validation_freq, max_queue_size, workers, use_multiprocessing, **kwargs)\u001b[0m\n\u001b[1;32m    340\u001b[0m                 \u001b[0mmode\u001b[0m\u001b[0;34m=\u001b[0m\u001b[0mModeKeys\u001b[0m\u001b[0;34m.\u001b[0m\u001b[0mTRAIN\u001b[0m\u001b[0;34m,\u001b[0m\u001b[0;34m\u001b[0m\u001b[0;34m\u001b[0m\u001b[0m\n\u001b[1;32m    341\u001b[0m                 \u001b[0mtraining_context\u001b[0m\u001b[0;34m=\u001b[0m\u001b[0mtraining_context\u001b[0m\u001b[0;34m,\u001b[0m\u001b[0;34m\u001b[0m\u001b[0;34m\u001b[0m\u001b[0m\n\u001b[0;32m--> 342\u001b[0;31m                 total_epochs=epochs)\n\u001b[0m\u001b[1;32m    343\u001b[0m             \u001b[0mcbks\u001b[0m\u001b[0;34m.\u001b[0m\u001b[0mmake_logs\u001b[0m\u001b[0;34m(\u001b[0m\u001b[0mmodel\u001b[0m\u001b[0;34m,\u001b[0m \u001b[0mepoch_logs\u001b[0m\u001b[0;34m,\u001b[0m \u001b[0mtraining_result\u001b[0m\u001b[0;34m,\u001b[0m \u001b[0mModeKeys\u001b[0m\u001b[0;34m.\u001b[0m\u001b[0mTRAIN\u001b[0m\u001b[0;34m)\u001b[0m\u001b[0;34m\u001b[0m\u001b[0;34m\u001b[0m\u001b[0m\n\u001b[1;32m    344\u001b[0m \u001b[0;34m\u001b[0m\u001b[0m\n",
            "\u001b[0;32m/usr/local/lib/python3.6/dist-packages/tensorflow_core/python/keras/engine/training_v2.py\u001b[0m in \u001b[0;36mrun_one_epoch\u001b[0;34m(model, iterator, execution_function, dataset_size, batch_size, strategy, steps_per_epoch, num_samples, mode, training_context, total_epochs)\u001b[0m\n\u001b[1;32m    126\u001b[0m         step=step, mode=mode, size=current_batch_size) as batch_logs:\n\u001b[1;32m    127\u001b[0m       \u001b[0;32mtry\u001b[0m\u001b[0;34m:\u001b[0m\u001b[0;34m\u001b[0m\u001b[0;34m\u001b[0m\u001b[0m\n\u001b[0;32m--> 128\u001b[0;31m         \u001b[0mbatch_outs\u001b[0m \u001b[0;34m=\u001b[0m \u001b[0mexecution_function\u001b[0m\u001b[0;34m(\u001b[0m\u001b[0miterator\u001b[0m\u001b[0;34m)\u001b[0m\u001b[0;34m\u001b[0m\u001b[0;34m\u001b[0m\u001b[0m\n\u001b[0m\u001b[1;32m    129\u001b[0m       \u001b[0;32mexcept\u001b[0m \u001b[0;34m(\u001b[0m\u001b[0mStopIteration\u001b[0m\u001b[0;34m,\u001b[0m \u001b[0merrors\u001b[0m\u001b[0;34m.\u001b[0m\u001b[0mOutOfRangeError\u001b[0m\u001b[0;34m)\u001b[0m\u001b[0;34m:\u001b[0m\u001b[0;34m\u001b[0m\u001b[0;34m\u001b[0m\u001b[0m\n\u001b[1;32m    130\u001b[0m         \u001b[0;31m# TODO(kaftan): File bug about tf function and errors.OutOfRangeError?\u001b[0m\u001b[0;34m\u001b[0m\u001b[0;34m\u001b[0m\u001b[0;34m\u001b[0m\u001b[0m\n",
            "\u001b[0;32m/usr/local/lib/python3.6/dist-packages/tensorflow_core/python/keras/engine/training_v2_utils.py\u001b[0m in \u001b[0;36mexecution_function\u001b[0;34m(input_fn)\u001b[0m\n\u001b[1;32m     96\u001b[0m     \u001b[0;31m# `numpy` translates Tensors to values in Eager mode.\u001b[0m\u001b[0;34m\u001b[0m\u001b[0;34m\u001b[0m\u001b[0;34m\u001b[0m\u001b[0m\n\u001b[1;32m     97\u001b[0m     return nest.map_structure(_non_none_constant_value,\n\u001b[0;32m---> 98\u001b[0;31m                               distributed_function(input_fn))\n\u001b[0m\u001b[1;32m     99\u001b[0m \u001b[0;34m\u001b[0m\u001b[0m\n\u001b[1;32m    100\u001b[0m   \u001b[0;32mreturn\u001b[0m \u001b[0mexecution_function\u001b[0m\u001b[0;34m\u001b[0m\u001b[0;34m\u001b[0m\u001b[0m\n",
            "\u001b[0;32m/usr/local/lib/python3.6/dist-packages/tensorflow_core/python/eager/def_function.py\u001b[0m in \u001b[0;36m__call__\u001b[0;34m(self, *args, **kwds)\u001b[0m\n\u001b[1;32m    566\u001b[0m         \u001b[0mxla_context\u001b[0m\u001b[0;34m.\u001b[0m\u001b[0mExit\u001b[0m\u001b[0;34m(\u001b[0m\u001b[0;34m)\u001b[0m\u001b[0;34m\u001b[0m\u001b[0;34m\u001b[0m\u001b[0m\n\u001b[1;32m    567\u001b[0m     \u001b[0;32melse\u001b[0m\u001b[0;34m:\u001b[0m\u001b[0;34m\u001b[0m\u001b[0;34m\u001b[0m\u001b[0m\n\u001b[0;32m--> 568\u001b[0;31m       \u001b[0mresult\u001b[0m \u001b[0;34m=\u001b[0m \u001b[0mself\u001b[0m\u001b[0;34m.\u001b[0m\u001b[0m_call\u001b[0m\u001b[0;34m(\u001b[0m\u001b[0;34m*\u001b[0m\u001b[0margs\u001b[0m\u001b[0;34m,\u001b[0m \u001b[0;34m**\u001b[0m\u001b[0mkwds\u001b[0m\u001b[0;34m)\u001b[0m\u001b[0;34m\u001b[0m\u001b[0;34m\u001b[0m\u001b[0m\n\u001b[0m\u001b[1;32m    569\u001b[0m \u001b[0;34m\u001b[0m\u001b[0m\n\u001b[1;32m    570\u001b[0m     \u001b[0;32mif\u001b[0m \u001b[0mtracing_count\u001b[0m \u001b[0;34m==\u001b[0m \u001b[0mself\u001b[0m\u001b[0;34m.\u001b[0m\u001b[0m_get_tracing_count\u001b[0m\u001b[0;34m(\u001b[0m\u001b[0;34m)\u001b[0m\u001b[0;34m:\u001b[0m\u001b[0;34m\u001b[0m\u001b[0;34m\u001b[0m\u001b[0m\n",
            "\u001b[0;32m/usr/local/lib/python3.6/dist-packages/tensorflow_core/python/eager/def_function.py\u001b[0m in \u001b[0;36m_call\u001b[0;34m(self, *args, **kwds)\u001b[0m\n\u001b[1;32m    597\u001b[0m       \u001b[0;31m# In this case we have created variables on the first call, so we run the\u001b[0m\u001b[0;34m\u001b[0m\u001b[0;34m\u001b[0m\u001b[0;34m\u001b[0m\u001b[0m\n\u001b[1;32m    598\u001b[0m       \u001b[0;31m# defunned version which is guaranteed to never create variables.\u001b[0m\u001b[0;34m\u001b[0m\u001b[0;34m\u001b[0m\u001b[0;34m\u001b[0m\u001b[0m\n\u001b[0;32m--> 599\u001b[0;31m       \u001b[0;32mreturn\u001b[0m \u001b[0mself\u001b[0m\u001b[0;34m.\u001b[0m\u001b[0m_stateless_fn\u001b[0m\u001b[0;34m(\u001b[0m\u001b[0;34m*\u001b[0m\u001b[0margs\u001b[0m\u001b[0;34m,\u001b[0m \u001b[0;34m**\u001b[0m\u001b[0mkwds\u001b[0m\u001b[0;34m)\u001b[0m  \u001b[0;31m# pylint: disable=not-callable\u001b[0m\u001b[0;34m\u001b[0m\u001b[0;34m\u001b[0m\u001b[0m\n\u001b[0m\u001b[1;32m    600\u001b[0m     \u001b[0;32melif\u001b[0m \u001b[0mself\u001b[0m\u001b[0;34m.\u001b[0m\u001b[0m_stateful_fn\u001b[0m \u001b[0;32mis\u001b[0m \u001b[0;32mnot\u001b[0m \u001b[0;32mNone\u001b[0m\u001b[0;34m:\u001b[0m\u001b[0;34m\u001b[0m\u001b[0;34m\u001b[0m\u001b[0m\n\u001b[1;32m    601\u001b[0m       \u001b[0;31m# Release the lock early so that multiple threads can perform the call\u001b[0m\u001b[0;34m\u001b[0m\u001b[0;34m\u001b[0m\u001b[0;34m\u001b[0m\u001b[0m\n",
            "\u001b[0;32m/usr/local/lib/python3.6/dist-packages/tensorflow_core/python/eager/function.py\u001b[0m in \u001b[0;36m__call__\u001b[0;34m(self, *args, **kwargs)\u001b[0m\n\u001b[1;32m   2361\u001b[0m     \u001b[0;32mwith\u001b[0m \u001b[0mself\u001b[0m\u001b[0;34m.\u001b[0m\u001b[0m_lock\u001b[0m\u001b[0;34m:\u001b[0m\u001b[0;34m\u001b[0m\u001b[0;34m\u001b[0m\u001b[0m\n\u001b[1;32m   2362\u001b[0m       \u001b[0mgraph_function\u001b[0m\u001b[0;34m,\u001b[0m \u001b[0margs\u001b[0m\u001b[0;34m,\u001b[0m \u001b[0mkwargs\u001b[0m \u001b[0;34m=\u001b[0m \u001b[0mself\u001b[0m\u001b[0;34m.\u001b[0m\u001b[0m_maybe_define_function\u001b[0m\u001b[0;34m(\u001b[0m\u001b[0margs\u001b[0m\u001b[0;34m,\u001b[0m \u001b[0mkwargs\u001b[0m\u001b[0;34m)\u001b[0m\u001b[0;34m\u001b[0m\u001b[0;34m\u001b[0m\u001b[0m\n\u001b[0;32m-> 2363\u001b[0;31m     \u001b[0;32mreturn\u001b[0m \u001b[0mgraph_function\u001b[0m\u001b[0;34m.\u001b[0m\u001b[0m_filtered_call\u001b[0m\u001b[0;34m(\u001b[0m\u001b[0margs\u001b[0m\u001b[0;34m,\u001b[0m \u001b[0mkwargs\u001b[0m\u001b[0;34m)\u001b[0m  \u001b[0;31m# pylint: disable=protected-access\u001b[0m\u001b[0;34m\u001b[0m\u001b[0;34m\u001b[0m\u001b[0m\n\u001b[0m\u001b[1;32m   2364\u001b[0m \u001b[0;34m\u001b[0m\u001b[0m\n\u001b[1;32m   2365\u001b[0m   \u001b[0;34m@\u001b[0m\u001b[0mproperty\u001b[0m\u001b[0;34m\u001b[0m\u001b[0;34m\u001b[0m\u001b[0m\n",
            "\u001b[0;32m/usr/local/lib/python3.6/dist-packages/tensorflow_core/python/eager/function.py\u001b[0m in \u001b[0;36m_filtered_call\u001b[0;34m(self, args, kwargs)\u001b[0m\n\u001b[1;32m   1609\u001b[0m          if isinstance(t, (ops.Tensor,\n\u001b[1;32m   1610\u001b[0m                            resource_variable_ops.BaseResourceVariable))),\n\u001b[0;32m-> 1611\u001b[0;31m         self.captured_inputs)\n\u001b[0m\u001b[1;32m   1612\u001b[0m \u001b[0;34m\u001b[0m\u001b[0m\n\u001b[1;32m   1613\u001b[0m   \u001b[0;32mdef\u001b[0m \u001b[0m_call_flat\u001b[0m\u001b[0;34m(\u001b[0m\u001b[0mself\u001b[0m\u001b[0;34m,\u001b[0m \u001b[0margs\u001b[0m\u001b[0;34m,\u001b[0m \u001b[0mcaptured_inputs\u001b[0m\u001b[0;34m,\u001b[0m \u001b[0mcancellation_manager\u001b[0m\u001b[0;34m=\u001b[0m\u001b[0;32mNone\u001b[0m\u001b[0;34m)\u001b[0m\u001b[0;34m:\u001b[0m\u001b[0;34m\u001b[0m\u001b[0;34m\u001b[0m\u001b[0m\n",
            "\u001b[0;32m/usr/local/lib/python3.6/dist-packages/tensorflow_core/python/eager/function.py\u001b[0m in \u001b[0;36m_call_flat\u001b[0;34m(self, args, captured_inputs, cancellation_manager)\u001b[0m\n\u001b[1;32m   1690\u001b[0m       \u001b[0;31m# No tape is watching; skip to running the function.\u001b[0m\u001b[0;34m\u001b[0m\u001b[0;34m\u001b[0m\u001b[0;34m\u001b[0m\u001b[0m\n\u001b[1;32m   1691\u001b[0m       return self._build_call_outputs(self._inference_function.call(\n\u001b[0;32m-> 1692\u001b[0;31m           ctx, args, cancellation_manager=cancellation_manager))\n\u001b[0m\u001b[1;32m   1693\u001b[0m     forward_backward = self._select_forward_and_backward_functions(\n\u001b[1;32m   1694\u001b[0m         \u001b[0margs\u001b[0m\u001b[0;34m,\u001b[0m\u001b[0;34m\u001b[0m\u001b[0;34m\u001b[0m\u001b[0m\n",
            "\u001b[0;32m/usr/local/lib/python3.6/dist-packages/tensorflow_core/python/eager/function.py\u001b[0m in \u001b[0;36mcall\u001b[0;34m(self, ctx, args, cancellation_manager)\u001b[0m\n\u001b[1;32m    543\u001b[0m               \u001b[0minputs\u001b[0m\u001b[0;34m=\u001b[0m\u001b[0margs\u001b[0m\u001b[0;34m,\u001b[0m\u001b[0;34m\u001b[0m\u001b[0;34m\u001b[0m\u001b[0m\n\u001b[1;32m    544\u001b[0m               \u001b[0mattrs\u001b[0m\u001b[0;34m=\u001b[0m\u001b[0;34m(\u001b[0m\u001b[0;34m\"executor_type\"\u001b[0m\u001b[0;34m,\u001b[0m \u001b[0mexecutor_type\u001b[0m\u001b[0;34m,\u001b[0m \u001b[0;34m\"config_proto\"\u001b[0m\u001b[0;34m,\u001b[0m \u001b[0mconfig\u001b[0m\u001b[0;34m)\u001b[0m\u001b[0;34m,\u001b[0m\u001b[0;34m\u001b[0m\u001b[0;34m\u001b[0m\u001b[0m\n\u001b[0;32m--> 545\u001b[0;31m               ctx=ctx)\n\u001b[0m\u001b[1;32m    546\u001b[0m         \u001b[0;32melse\u001b[0m\u001b[0;34m:\u001b[0m\u001b[0;34m\u001b[0m\u001b[0;34m\u001b[0m\u001b[0m\n\u001b[1;32m    547\u001b[0m           outputs = execute.execute_with_cancellation(\n",
            "\u001b[0;32m/usr/local/lib/python3.6/dist-packages/tensorflow_core/python/eager/execute.py\u001b[0m in \u001b[0;36mquick_execute\u001b[0;34m(op_name, num_outputs, inputs, attrs, ctx, name)\u001b[0m\n\u001b[1;32m     59\u001b[0m     tensors = pywrap_tensorflow.TFE_Py_Execute(ctx._handle, device_name,\n\u001b[1;32m     60\u001b[0m                                                \u001b[0mop_name\u001b[0m\u001b[0;34m,\u001b[0m \u001b[0minputs\u001b[0m\u001b[0;34m,\u001b[0m \u001b[0mattrs\u001b[0m\u001b[0;34m,\u001b[0m\u001b[0;34m\u001b[0m\u001b[0;34m\u001b[0m\u001b[0m\n\u001b[0;32m---> 61\u001b[0;31m                                                num_outputs)\n\u001b[0m\u001b[1;32m     62\u001b[0m   \u001b[0;32mexcept\u001b[0m \u001b[0mcore\u001b[0m\u001b[0;34m.\u001b[0m\u001b[0m_NotOkStatusException\u001b[0m \u001b[0;32mas\u001b[0m \u001b[0me\u001b[0m\u001b[0;34m:\u001b[0m\u001b[0;34m\u001b[0m\u001b[0;34m\u001b[0m\u001b[0m\n\u001b[1;32m     63\u001b[0m     \u001b[0;32mif\u001b[0m \u001b[0mname\u001b[0m \u001b[0;32mis\u001b[0m \u001b[0;32mnot\u001b[0m \u001b[0;32mNone\u001b[0m\u001b[0;34m:\u001b[0m\u001b[0;34m\u001b[0m\u001b[0;34m\u001b[0m\u001b[0m\n",
            "\u001b[0;31mKeyboardInterrupt\u001b[0m: "
          ]
        }
      ]
    },
    {
      "cell_type": "markdown",
      "metadata": {
        "id": "etnFFfie9JcS",
        "colab_type": "text"
      },
      "source": [
        "## Evaluate the model on single SNR with fading"
      ]
    },
    {
      "cell_type": "code",
      "metadata": {
        "id": "KqmB8wYvzDuG",
        "colab_type": "code",
        "colab": {}
      },
      "source": [
        "y_valid_flattened = [None] * num_outputs\n",
        "y_test_flattened = [None] * num_outputs\n",
        "\n",
        "for i in range(num_outputs):\n",
        "  y_valid_flattened[i] = y_valid_single_SNR_fade[:,i]\n",
        "  y_test_flattened[i] = y_test_single_SNR_fade[:,i]\n",
        "\n",
        "# Test model on the validation and test set and report results\n",
        "score_val = model_fade.evaluate(X_valid_single_SNR_fade, y_valid_flattened, batch_size = 100, verbose=0)\n",
        "score_test = model_fade.evaluate(X_test_single_SNR_fade, y_test_flattened, batch_size = 100, verbose=0)\n",
        "\n",
        "print(\"Evaluate model on the validation set:\")\n",
        "print(\"---------------------------------------------------\")\n",
        "print(\"Total Loss: \\t\\t\\t\", score_val[0])\n",
        "for i in range(num_outputs):\n",
        "  print(\"Bit \" + str(i) + \" [Loss, MSE] is: \\t\\t\", score_val[i+ int(num_outputs != 1)], \"\\t, \", score_val[i+ 1 + 2*int(num_outputs != 1)])\n",
        "\n",
        "print(\"\\n\\nEvaluate model on the test set:\")\n",
        "print(\"---------------------------------------------------\")\n",
        "print(\"Total Loss: \\t\\t\\t\", score_test[0])\n",
        "for i in range(num_outputs):\n",
        "  print(\"Bit \" + str(i) + \" [Loss, MSE] is: \\t\\t\", score_test[i+ int(num_outputs != 1)], \"\\t, \", score_test[i+ 1 + 2*int(num_outputs != 1)])"
      ],
      "execution_count": 0,
      "outputs": []
    },
    {
      "cell_type": "code",
      "metadata": {
        "id": "e7h3lipi-dnU",
        "colab_type": "code",
        "colab": {}
      },
      "source": [
        "y_pred = [None]*num_outputs\n",
        "y_pred = model_fade.predict(X_test_single_SNR_fade)\n",
        "\n",
        "f = plt.figure()\n",
        "f.set_figheight(10)\n",
        "f.set_figwidth(10)\n",
        "for i in range(num_outputs):\n",
        "  if num_outputs != 1:\n",
        "    predicted = y_pred[i][:]\n",
        "  else:\n",
        "    predicted = y_pred\n",
        "\n",
        "  plt.subplot(2,2,i+1)\n",
        "  plt.scatter(np.asarray(predicted), y_test_single_SNR_fade[:,i].reshape([-1,1]))\n",
        "  plt.plot(y_test_single_SNR_fade[:,i].reshape([-1,1]), y_test_single_SNR_fade[:,i].reshape([-1,1]), 'k')\n",
        "  plt.xlabel(\"Predicted Neural Network LLRs\")\n",
        "  plt.ylabel(\"Actual LLRs\")\n",
        "  plt.title(\"Bit \" + str(i) + \": \" + MODULATION)\n",
        "  plt.grid()\n",
        "\n",
        "f.legend(('Results if model was 100% Accurate', 'Results', ), loc = 'lower center')\n",
        "f.suptitle(\"Model trained and tested on Rayleigh fading channel with variance \" + str(FADE_VAR) + \" and AWGN noise\")\n",
        "plt.subplots_adjust(wspace=0.5, hspace=0.5)\n",
        "plt.show()"
      ],
      "execution_count": 0,
      "outputs": []
    }
  ]
}